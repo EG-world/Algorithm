{
  "nbformat": 4,
  "nbformat_minor": 0,
  "metadata": {
    "colab": {
      "provenance": [],
      "authorship_tag": "ABX9TyNQHTS9FVy/KWT/Bot9qo04",
      "include_colab_link": true
    },
    "kernelspec": {
      "name": "python3",
      "display_name": "Python 3"
    },
    "language_info": {
      "name": "python"
    }
  },
  "cells": [
    {
      "cell_type": "markdown",
      "metadata": {
        "id": "view-in-github",
        "colab_type": "text"
      },
      "source": [
        "<a href=\"https://colab.research.google.com/github/EG-world/Algorithm/blob/main/3_%EC%8B%9C%EA%B0%84_%EB%B3%B5%EC%9E%A1%EB%8F%84%EC%99%80_%EA%B3%B5%EA%B0%84_%EB%B3%B5%EC%9E%A1%EB%8F%84.ipynb\" target=\"_parent\"><img src=\"https://colab.research.google.com/assets/colab-badge.svg\" alt=\"Open In Colab\"/></a>"
      ]
    },
    {
      "cell_type": "markdown",
      "source": [
        "# **1. 알고리즘 복잡도 표현방법**\n"
      ],
      "metadata": {
        "id": "6454XxIa7XRV"
      }
    },
    {
      "cell_type": "markdown",
      "source": [
        "### 1-1. 알고리즘 복잡도 계산이 필요한 이유\n",
        "* 정수의 절대값을 구하는 방법\n",
        "  * 방법1 : 정수값을 제곱한 값에 루트를 씌우기\n",
        "  * 방법2 : 값이 음수인지 확인하고 음수일 때 -1 곱하기\n",
        "\n",
        "\n",
        "> 다양한 알고리즘 중 어떤 알고리즘이 더 좋은지 분석하기 위해 복잡도를 정의하고 계산함\n"
      ],
      "metadata": {
        "id": "pV2p3WvN72de"
      }
    },
    {
      "cell_type": "markdown",
      "source": [
        "### 1-2. 알고리즘 복잡도 계산 항목\n",
        "* 시간 복잡도 : 알고리즘 실행 속도\n",
        "* 공간 복잡도 : 알고리즘이 사용하는 메모리 사이즈"
      ],
      "metadata": {
        "id": "LgjKkQ0i7492"
      }
    },
    {
      "cell_type": "markdown",
      "source": [
        "\n"
      ],
      "metadata": {
        "id": "4RXBGAeo_EHK"
      }
    },
    {
      "cell_type": "markdown",
      "source": [
        "### 1-3. 알고리즘 성능 표기법\n",
        "* 오메가 표기법 : 알고리즘 최상의 결과를 표기\n",
        "* 세타 표기법 : 알고리즘 평균 결과를 표기\n",
        "* 빅오 표기법 : 최악의 실행 결과를 표기. 가장 많이 사용함. 아무리 최악의 상황이라도 이 정도의 상황은 보장함을 의미"
      ],
      "metadata": {
        "id": "u_UsnxPY_IkR"
      }
    },
    {
      "cell_type": "markdown",
      "source": [
        "# **2. 시간 복잡도**\n",
        "알고리즘이 수행되는 시간이 입력 크기에 따라 어떻게 변하는지를 분석한 개념"
      ],
      "metadata": {
        "id": "EgaTMySm_JPs"
      }
    },
    {
      "cell_type": "markdown",
      "source": [
        "### 2-1. 빅-오 표기법(Big-O Notation)\n",
        "* 시간 복잡도를 분석할 때 가장 많이 사용되는 표기법\n",
        "* 입력 크기가 커질 때의 최악의 경우를 표현해 주는 방법\n",
        "* O(1) : 상수시간 복잡도\n",
        "  * 입력크기에 상관없이 항상 일정한 시간이 걸리는 경우\n",
        "  * 예) 배열에서 인덱스로 특정 값을 찾는 것 (arr[0])\n",
        "* O(log n) : 로그 시간 복잡도\n",
        "  * 입력크기가 커져도 시간이 급격히 늘어나지 않는 경우\n",
        "  * 예) 이진 탐색 트리 알고리즘."
      ],
      "metadata": {
        "id": "4OgsoJjb_JSp"
      }
    },
    {
      "cell_type": "code",
      "source": [],
      "metadata": {
        "id": "hJiB-HjI_JVI"
      },
      "execution_count": null,
      "outputs": []
    },
    {
      "cell_type": "code",
      "source": [],
      "metadata": {
        "id": "FJJ9cFMR_KH3"
      },
      "execution_count": null,
      "outputs": []
    },
    {
      "cell_type": "code",
      "source": [],
      "metadata": {
        "id": "PUCefXED_KE9"
      },
      "execution_count": null,
      "outputs": []
    },
    {
      "cell_type": "code",
      "source": [],
      "metadata": {
        "id": "Agf7sHyT_KCB"
      },
      "execution_count": null,
      "outputs": []
    },
    {
      "cell_type": "code",
      "source": [],
      "metadata": {
        "id": "u8nkPClI_J_s"
      },
      "execution_count": null,
      "outputs": []
    },
    {
      "cell_type": "code",
      "source": [],
      "metadata": {
        "id": "kHGezIfk_J8v"
      },
      "execution_count": null,
      "outputs": []
    },
    {
      "cell_type": "code",
      "source": [],
      "metadata": {
        "id": "EpwJ3L1j_J6a"
      },
      "execution_count": null,
      "outputs": []
    },
    {
      "cell_type": "code",
      "source": [],
      "metadata": {
        "id": "3iSGHkjH_J3e"
      },
      "execution_count": null,
      "outputs": []
    },
    {
      "cell_type": "code",
      "source": [],
      "metadata": {
        "id": "13u5v5Wg_J1L"
      },
      "execution_count": null,
      "outputs": []
    },
    {
      "cell_type": "code",
      "source": [],
      "metadata": {
        "id": "CS58Z2Jp_JyO"
      },
      "execution_count": null,
      "outputs": []
    },
    {
      "cell_type": "code",
      "source": [],
      "metadata": {
        "id": "TRoNvi6Z_JvT"
      },
      "execution_count": null,
      "outputs": []
    },
    {
      "cell_type": "code",
      "source": [],
      "metadata": {
        "id": "My0_zQlI_Js8"
      },
      "execution_count": null,
      "outputs": []
    },
    {
      "cell_type": "code",
      "source": [],
      "metadata": {
        "id": "BUD_3D8__JqB"
      },
      "execution_count": null,
      "outputs": []
    },
    {
      "cell_type": "code",
      "source": [],
      "metadata": {
        "id": "zx2Jfkb-_Jns"
      },
      "execution_count": null,
      "outputs": []
    },
    {
      "cell_type": "code",
      "source": [],
      "metadata": {
        "id": "atfE5uXu_JlW"
      },
      "execution_count": null,
      "outputs": []
    },
    {
      "cell_type": "code",
      "source": [],
      "metadata": {
        "id": "by0Ruxfn_Jia"
      },
      "execution_count": null,
      "outputs": []
    },
    {
      "cell_type": "code",
      "source": [],
      "metadata": {
        "id": "F2TjCYt5_JgF"
      },
      "execution_count": null,
      "outputs": []
    },
    {
      "cell_type": "code",
      "source": [],
      "metadata": {
        "id": "T8DiV3ag_Jdv"
      },
      "execution_count": null,
      "outputs": []
    },
    {
      "cell_type": "code",
      "source": [],
      "metadata": {
        "id": "57FcKO5A_Jb_"
      },
      "execution_count": null,
      "outputs": []
    },
    {
      "cell_type": "code",
      "source": [],
      "metadata": {
        "id": "q3MfDa9Z_JXT"
      },
      "execution_count": null,
      "outputs": []
    }
  ]
}