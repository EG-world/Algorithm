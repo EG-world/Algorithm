{
  "nbformat": 4,
  "nbformat_minor": 0,
  "metadata": {
    "colab": {
      "provenance": [],
      "authorship_tag": "ABX9TyNml9VKNuEAfKI+hRigsBB/",
      "include_colab_link": true
    },
    "kernelspec": {
      "name": "python3",
      "display_name": "Python 3"
    },
    "language_info": {
      "name": "python"
    }
  },
  "cells": [
    {
      "cell_type": "markdown",
      "metadata": {
        "id": "view-in-github",
        "colab_type": "text"
      },
      "source": [
        "<a href=\"https://colab.research.google.com/github/EG-world/Algorithm/blob/main/3_%EC%8B%9C%EA%B0%84_%EB%B3%B5%EC%9E%A1%EB%8F%84%EC%99%80_%EA%B3%B5%EA%B0%84_%EB%B3%B5%EC%9E%A1%EB%8F%84.ipynb\" target=\"_parent\"><img src=\"https://colab.research.google.com/assets/colab-badge.svg\" alt=\"Open In Colab\"/></a>"
      ]
    },
    {
      "cell_type": "markdown",
      "source": [
        "# **1. 알고리즘 복잡도 표현방법**\n"
      ],
      "metadata": {
        "id": "6454XxIa7XRV"
      }
    },
    {
      "cell_type": "markdown",
      "source": [
        "### 1-1. 알고리즘 복잡도 계산이 필요한 이유\n",
        "* 정수의 절대값을 구하는 방법\n",
        "  * 방법1 : 정수값을 제곱한 값에 루트를 씌우기\n",
        "  * 방법2 : 값이 음수인지 확인하고 음수일 때 -1 곱하기\n",
        "\n",
        "\n",
        "> 다양한 알고리즘 중 어떤 알고리즘이 더 좋은지 분석하기 위해 복잡도를 정의하고 계산함\n"
      ],
      "metadata": {
        "id": "pV2p3WvN72de"
      }
    },
    {
      "cell_type": "markdown",
      "source": [
        "### 1-2. 알고리즘 복잡도 계산 항목\n",
        "* 시간 복잡도 : 알고리즘 실행 속도\n",
        "* 공간 복잡도 : 알고리즘이 사용하는 메모리 사이즈"
      ],
      "metadata": {
        "id": "LgjKkQ0i7492"
      }
    },
    {
      "cell_type": "markdown",
      "source": [
        "\n"
      ],
      "metadata": {
        "id": "4RXBGAeo_EHK"
      }
    },
    {
      "cell_type": "markdown",
      "source": [
        "### 1-3. 알고리즘 성능 표기법\n",
        "* 오메가 표기법 : 알고리즘 최상의 결과를 표기\n",
        "* 세타 표기법 : 알고리즘 평균 결과를 표기\n",
        "* 빅오 표기법 : 최악의 실행 결과를 표기. 가장 많이 사용함. 아무리 최악의 상황이라도 이 정도의 상황은 보장함을 의미"
      ],
      "metadata": {
        "id": "u_UsnxPY_IkR"
      }
    },
    {
      "cell_type": "markdown",
      "source": [
        "# **2. 시간 복잡도**\n",
        "알고리즘이 수행되는 시간이 입력 크기에 따라 어떻게 변하는지를 분석한 개념"
      ],
      "metadata": {
        "id": "EgaTMySm_JPs"
      }
    },
    {
      "cell_type": "markdown",
      "source": [
        "### 2-1. 빅-오 표기법(Big-O Notation)\n",
        "* 시간 복잡도를 분석할 때 가장 많이 사용되는 표기법\n",
        "* 입력 크기가 커질 때의 최악의 경우를 표현해 주는 방법\n",
        "* O(1) : 상수시간 복잡도\n",
        "  * 입력크기에 상관없이 항상 일정한 시간이 걸리는 경우\n",
        "  * 예) 배열에서 인덱스로 특정 값을 찾는 것 (arr[0])\n",
        "* O($\\log n$) : 로그 시간 복잡도\n",
        "  * 입력크기가 커져도 시간이 급격히 늘어나지 않는 경우\n",
        "  * 예) 이진 탐색 트리 알고리즘.\n",
        "* O($n$) : 선형시간 복잡도\n",
        "  * 입력크기 n에 비례해 시간이 늘어나는 경우\n",
        "  * 예) 배열에서 값을 하나씩 확인하며 찾는 경우\n",
        "* O($n^2$) : 이차 시간 복잡도\n",
        "  * 입력 크기에 따라 시간이 n의 제곱으로 늘어나는 경우\n",
        "  * 예) 버블 정렬 처럼 중첩된 반복문이 있을 때\n",
        "\n",
        "> (빠름) O(1) < O($log n$) < O(n) < O(n$log n$) < O($n^2$) < O($2^n$) < O(n!) (느림)"
      ],
      "metadata": {
        "id": "4OgsoJjb_JSp"
      }
    },
    {
      "cell_type": "markdown",
      "source": [
        "### 2-2. 실제 알고리즘을 예로 시간 복잡도와 빅오 표기법 알아보기"
      ],
      "metadata": {
        "id": "hJiB-HjI_JVI"
      }
    },
    {
      "cell_type": "code",
      "source": [
        "# 1 부터 n 까지의 합을 구하는 알고리즘\n",
        "# 방법 1\n",
        "def sum_all(n) :\n",
        "  total = 0\n",
        "  for num in range(1, n+1) :\n",
        "    total += num\n",
        "  return total"
      ],
      "metadata": {
        "id": "FJJ9cFMR_KH3"
      },
      "execution_count": 2,
      "outputs": []
    },
    {
      "cell_type": "code",
      "source": [
        "sum_all(100) # 빅오 표기법 : O(n)"
      ],
      "metadata": {
        "colab": {
          "base_uri": "https://localhost:8080/"
        },
        "id": "PUCefXED_KE9",
        "outputId": "48c3b70b-3179-4786-cffa-1e1e86098b69"
      },
      "execution_count": 3,
      "outputs": [
        {
          "output_type": "execute_result",
          "data": {
            "text/plain": [
              "5050"
            ]
          },
          "metadata": {},
          "execution_count": 3
        }
      ]
    },
    {
      "cell_type": "markdown",
      "source": [
        "<font size=5em> $\\frac { n (n + 1) }{ 2 }$ </font>"
      ],
      "metadata": {
        "id": "u8nkPClI_J_s"
      }
    },
    {
      "cell_type": "code",
      "source": [
        "# 1 부터 n 까지의 합을 구하는 알고리즘\n",
        "# 방법 2\n",
        "def sum_all(n) :\n",
        "  return int(n * (n+1) / 2)"
      ],
      "metadata": {
        "id": "kHGezIfk_J8v"
      },
      "execution_count": 5,
      "outputs": []
    },
    {
      "cell_type": "code",
      "source": [
        "sum_all(100) # 빅오 표기법 : O(1)"
      ],
      "metadata": {
        "colab": {
          "base_uri": "https://localhost:8080/"
        },
        "id": "EpwJ3L1j_J6a",
        "outputId": "511bd144-81a5-4945-a0d3-332025111960"
      },
      "execution_count": 7,
      "outputs": [
        {
          "output_type": "execute_result",
          "data": {
            "text/plain": [
              "5050"
            ]
          },
          "metadata": {},
          "execution_count": 7
        }
      ]
    },
    {
      "cell_type": "markdown",
      "source": [
        "> 어떤 알고리즘이 좋은지 객관적으로 비교하기 위해 빅오 표기법 등 시간 복잡도 계산법을 사용하는 이유"
      ],
      "metadata": {
        "id": "3iSGHkjH_J3e"
      }
    },
    {
      "cell_type": "markdown",
      "source": [
        "# **3. 공간 복잡도**\n",
        "알고리즘이 실행될 때 얼마나 많은 메모리(공간)를 사용하는지 분석 하는 개념"
      ],
      "metadata": {
        "id": "13u5v5Wg_J1L"
      }
    },
    {
      "cell_type": "markdown",
      "source": [
        "### 3-1. 공간 복잡도의 구성 요소\n",
        "* 고정 공간\n",
        "  * 알고리즘이 항상 사용하는 메모리 양으로 입력 크기에 상관없이 일정함\n",
        "  * 예) 함수 정의 시 사용하는 상수 공간\n",
        "* 가변 공간\n",
        "  * 입력 크기에 따라 달라지는 메모리 양\n",
        "  * 예) 배열이나 리스트를 동적으로 생성 할 때 입력 데이터에 따라 메모리 변화량"
      ],
      "metadata": {
        "id": "CS58Z2Jp_JyO"
      }
    },
    {
      "cell_type": "code",
      "source": [
        "# 고정 공간 : 배열 arr는 입력으로 주어진 데이터이므로 공간 복잡도 계산에 포함하지 않음\n",
        "# 가변 공간 : 입력 크기와 상관없이 하나의 변수를 사용하므로 O(1)\n",
        "def find_max(arr) :\n",
        "  max_value = arr[0]\n",
        "  for num in arr :\n",
        "    if num > max_value :\n",
        "      max_value = num\n",
        "  return max_value"
      ],
      "metadata": {
        "id": "TRoNvi6Z_JvT"
      },
      "execution_count": 8,
      "outputs": []
    },
    {
      "cell_type": "code",
      "source": [
        "find_max([10, 50, 20, 30])"
      ],
      "metadata": {
        "colab": {
          "base_uri": "https://localhost:8080/"
        },
        "id": "My0_zQlI_Js8",
        "outputId": "1e01ade3-7210-4016-f5fb-03b6b4a648d0"
      },
      "execution_count": 10,
      "outputs": [
        {
          "output_type": "execute_result",
          "data": {
            "text/plain": [
              "50"
            ]
          },
          "metadata": {},
          "execution_count": 10
        }
      ]
    },
    {
      "cell_type": "code",
      "source": [
        "# 고정 공간 : arr는 입력으로 주어진 데이터이므로 제외\n",
        "# 가변 공간 : 새로운 doubled 배열의 크기는 입력배열 arr의 크기와 같으므로 크기 n에 비례해 메모리를 사용 O(n)\n",
        "def double_arr(arr) :\n",
        "  doubled = [] # 새로운 리스트를 만든거기 때문에(추가 공간 생김)\n",
        "  for num in arr :\n",
        "    doubled.append(num * 2)\n",
        "  return doubled"
      ],
      "metadata": {
        "id": "BUD_3D8__JqB"
      },
      "execution_count": 15,
      "outputs": []
    },
    {
      "cell_type": "code",
      "source": [
        "double_arr([10, 50, 20, 30])"
      ],
      "metadata": {
        "colab": {
          "base_uri": "https://localhost:8080/"
        },
        "id": "zx2Jfkb-_Jns",
        "outputId": "ab35e61a-4f87-44bd-cdaa-15114832a4bd"
      },
      "execution_count": 16,
      "outputs": [
        {
          "output_type": "execute_result",
          "data": {
            "text/plain": [
              "[20, 100, 40, 60]"
            ]
          },
          "metadata": {},
          "execution_count": 16
        }
      ]
    },
    {
      "cell_type": "code",
      "source": [
        "# 입력 공간 : 함수는 단일 정수 n을 입력으로 받아 입력 공간은 거의 차지하지 않음\n",
        "# 가변 공간 : 재귀 호출이 일어날 때마다 각 호출이 스택에 저장되어야 함. 최대 n번의 호출이 스택에 쌓임 O(n^2)\n",
        "def fibonacci(n) :\n",
        "  if n <= 1:\n",
        "    return n\n",
        "  else :\n",
        "    return fibonacci(n-1) + fibonacci(n-2)"
      ],
      "metadata": {
        "id": "atfE5uXu_JlW"
      },
      "execution_count": 17,
      "outputs": []
    },
    {
      "cell_type": "code",
      "source": [
        "# 재귀 알고리즘은 시간 복잡도 및 공간 복잡도가 매우 나쁘다는 문제가 있음\n",
        "# 메모이제이션 같은 최적화 기법을 사용하는 것을 권장\n",
        "fibonacci(4)"
      ],
      "metadata": {
        "colab": {
          "base_uri": "https://localhost:8080/"
        },
        "id": "by0Ruxfn_Jia",
        "outputId": "8d649125-cd4c-4ce9-e86e-9cb13a7dc3a2"
      },
      "execution_count": 19,
      "outputs": [
        {
          "output_type": "execute_result",
          "data": {
            "text/plain": [
              "3"
            ]
          },
          "metadata": {},
          "execution_count": 19
        }
      ]
    },
    {
      "cell_type": "markdown",
      "source": [
        "### 3-2. 공간 복잡도 최적화 방법\n",
        "* 메모이제이션(Memoization) : 같은 계산을 여러 번 하지 않도록 계산한 값을 저장해서 사용하는 방법\n",
        "* in-place Sorting : 배열을 정렬 할 때 새로운 배열을 만들지 않고, 입력 배열을 직접 정렬하는 방법 예) 퀵 정렬 -> 공간 복잡도가 O($\\log n$)\n",
        "* 동적 프로그래밍(Dynamic Programming) : 메모이제이션 또는 계산한 결과를 테이블에 저장하여, 중복 계산을 피함으로써 시간과 공간 복잡도를 모두 줄일 수 있음"
      ],
      "metadata": {
        "id": "T8DiV3ag_Jdv"
      }
    },
    {
      "cell_type": "code",
      "source": [],
      "metadata": {
        "id": "57FcKO5A_Jb_"
      },
      "execution_count": null,
      "outputs": []
    },
    {
      "cell_type": "code",
      "source": [],
      "metadata": {
        "id": "q3MfDa9Z_JXT"
      },
      "execution_count": null,
      "outputs": []
    }
  ]
}