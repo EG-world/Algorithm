{
  "nbformat": 4,
  "nbformat_minor": 0,
  "metadata": {
    "colab": {
      "provenance": [],
      "authorship_tag": "ABX9TyMsxjU2MXdh946GDbfFiZbP",
      "include_colab_link": true
    },
    "kernelspec": {
      "name": "python3",
      "display_name": "Python 3"
    },
    "language_info": {
      "name": "python"
    }
  },
  "cells": [
    {
      "cell_type": "markdown",
      "metadata": {
        "id": "view-in-github",
        "colab_type": "text"
      },
      "source": [
        "<a href=\"https://colab.research.google.com/github/EG-world/Algorithm/blob/main/10_%ED%83%90%EC%9A%95_%EC%95%8C%EA%B3%A0%EB%A6%AC%EC%A6%98.ipynb\" target=\"_parent\"><img src=\"https://colab.research.google.com/assets/colab-badge.svg\" alt=\"Open In Colab\"/></a>"
      ]
    },
    {
      "cell_type": "markdown",
      "source": [
        "# **1. 탐욕 알고리즘(Greedy Algorithm)**\n",
        "* 최적의 해에 가까운 값을 구하기 위해 사용\n",
        "* 근사치 추정에 활용\n",
        "* 반드시 최적의 해를 구할 수 있는 것은 아님\n",
        "* 여러 경우 중 하나를 결정해야할 때마다 매 순간 최적이라고 생각되는 경우를 선택하는 방식"
      ],
      "metadata": {
        "id": "kdO38MS8693d"
      }
    },
    {
      "cell_type": "markdown",
      "source": [
        "# **2. 탐욕 알고리즘의 예**\n",
        "지불해야 할 값이 4720원 일 떄 1원, 50원, 100원, 500원 동전으로 동전의 수가 가장 적게 지불하는 방법\n",
        "* 가장 큰 동전부터 최대한 지불해야 하는 값을 채우는 방식으로 구현\n",
        "* 매 순간 최적이라고 생각되는 경우를 선택하면 됨\n"
      ],
      "metadata": {
        "id": "V6Aq9rsN7TGf"
      }
    },
    {
      "cell_type": "code",
      "source": [
        "def pay(money) :\n",
        "  five_00 = money//500\n",
        "  one_00 = (money%500)//100\n",
        "  five_0 = (money%100)//50\n",
        "  one = money%50\n",
        "  return f'500원짜리 {five_00}개, 100원짜리 {one_00}개, 50원짜리 {five_0}개, 1원짜리 {one}개'"
      ],
      "metadata": {
        "id": "AilfNJMQ74uP"
      },
      "execution_count": 7,
      "outputs": []
    },
    {
      "cell_type": "code",
      "source": [
        "pay(4720)"
      ],
      "metadata": {
        "colab": {
          "base_uri": "https://localhost:8080/"
        },
        "id": "YWDuTOTn8i_B",
        "outputId": "4e56b790-f40e-416b-b728-0f652f66e363"
      },
      "execution_count": 6,
      "outputs": [
        {
          "output_type": "stream",
          "name": "stdout",
          "text": [
            "500원짜리 9개, 100원짜리 2개, 50원짜리 0개, 1원짜리 20개\n"
          ]
        }
      ]
    },
    {
      "cell_type": "code",
      "source": [
        "def pay2(money) :\n",
        "  money_kind = [500, 100, 50, 1]\n",
        "  greedy = []\n",
        "  for i in range(len(money_kind)) :\n",
        "    greedy.append(money//money_kind[i])\n",
        "    money %= money_kind[i]\n",
        "  return sum(greedy)"
      ],
      "metadata": {
        "id": "KfJoOzsQ8lxU"
      },
      "execution_count": 12,
      "outputs": []
    },
    {
      "cell_type": "code",
      "source": [
        "pay2(4720)"
      ],
      "metadata": {
        "colab": {
          "base_uri": "https://localhost:8080/"
        },
        "id": "hoW1nDFOBtat",
        "outputId": "33c8962d-ea94-4525-f2ae-e235d0e89bcd"
      },
      "execution_count": 13,
      "outputs": [
        {
          "output_type": "execute_result",
          "data": {
            "text/plain": [
              "31"
            ]
          },
          "metadata": {},
          "execution_count": 13
        }
      ]
    },
    {
      "cell_type": "code",
      "source": [
        "coin_list = [1, 100, 50, 500]\n",
        "def min_coin_count(value, coin_list):\n",
        "    total_coin_count = 0\n",
        "    details = list()\n",
        "    coin_list.sort(reverse=True)\n",
        "    for coin in coin_list:\n",
        "        coin_num = value // coin\n",
        "        total_coin_count += coin_num\n",
        "        value -= coin_num * coin\n",
        "        details.append([coin, coin_num])\n",
        "    return total_coin_count, details"
      ],
      "metadata": {
        "id": "GfQTaqvDBuzy"
      },
      "execution_count": 14,
      "outputs": []
    },
    {
      "cell_type": "code",
      "source": [
        "min_coin_count(4720, coin_list)"
      ],
      "metadata": {
        "colab": {
          "base_uri": "https://localhost:8080/"
        },
        "id": "f7bbdsP6DL8p",
        "outputId": "6d8235c7-83e5-4ee1-8a1d-35073de157f1"
      },
      "execution_count": 15,
      "outputs": [
        {
          "output_type": "execute_result",
          "data": {
            "text/plain": [
              "(31, [[500, 9], [100, 2], [50, 0], [1, 20]])"
            ]
          },
          "metadata": {},
          "execution_count": 15
        }
      ]
    },
    {
      "cell_type": "code",
      "source": [],
      "metadata": {
        "id": "ShENXsFBDPFB"
      },
      "execution_count": null,
      "outputs": []
    }
  ]
}