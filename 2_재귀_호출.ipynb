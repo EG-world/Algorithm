{
  "nbformat": 4,
  "nbformat_minor": 0,
  "metadata": {
    "colab": {
      "provenance": [],
      "authorship_tag": "ABX9TyNK9m6cQZxxAgNhZqIFAZaE",
      "include_colab_link": true
    },
    "kernelspec": {
      "name": "python3",
      "display_name": "Python 3"
    },
    "language_info": {
      "name": "python"
    }
  },
  "cells": [
    {
      "cell_type": "markdown",
      "metadata": {
        "id": "view-in-github",
        "colab_type": "text"
      },
      "source": [
        "<a href=\"https://colab.research.google.com/github/EG-world/Algorithm/blob/main/2_%EC%9E%AC%EA%B7%80_%ED%98%B8%EC%B6%9C.ipynb\" target=\"_parent\"><img src=\"https://colab.research.google.com/assets/colab-badge.svg\" alt=\"Open In Colab\"/></a>"
      ]
    },
    {
      "cell_type": "markdown",
      "source": [
        "# **1. 재귀 호출(recursive call)**\n",
        "* 함수 안에서 동일한 함수를 호충하는 형태\n",
        "* 여러 알고리즘, 고급 정렬 알고리즘 작성시 자주 사용됨\n"
      ],
      "metadata": {
        "id": "slbcRWFglfF4"
      }
    },
    {
      "cell_type": "markdown",
      "source": [
        "### 1-1. 재귀 호출 분석\n",
        "* 2! = 1 * 2\n",
        "* 3! = 1 * 2 * 3\n",
        "* 4! = 1 * 2 * 3 * 4 = 4 * 3!"
      ],
      "metadata": {
        "id": "FBBCI3AMmgnU"
      }
    },
    {
      "cell_type": "markdown",
      "source": [
        "### 1-2. 규칙\n",
        "\n",
        "```\n",
        "n! = n * (n-1)!\n",
        "```\n",
        "\n",
        "* 함수로 만들기 = def factorial(num)\n",
        "* factorial(num)은 num>1이라면 return n * factorial(num-1)\n",
        "* factorial(num)은 num = 1 이라면 return n"
      ],
      "metadata": {
        "id": "pW3FlZGXmg4f"
      }
    },
    {
      "cell_type": "code",
      "source": [
        "def factorial(num) :\n",
        "  if num > 1 :\n",
        "    return num * factorial(num-1)\n",
        "  else :\n",
        "    return num"
      ],
      "metadata": {
        "id": "dQn-nVVqmg7Y"
      },
      "execution_count": 6,
      "outputs": []
    },
    {
      "cell_type": "markdown",
      "source": [
        "### 1-3. 검증\n",
        "* 2!\n",
        "  * factorial(2)이면 2 > 1 이므로 2 * factorial(1)\n",
        "  * factorial(1) 은 1이므로 return 2 * 1\n",
        "  * 결과는 2\n",
        "* 3!\n",
        "  * factorial(3)이면 3 > 1 이므로 3 * factorial(2)\n",
        "  * factorial(2)는 위 결과에 따라 2! 이므로 return 2 * 1 = 2\n",
        "  * 따라서 3 * factorial(2) = 3 * 2! = 3 * 2 * 1\n",
        "  * 결과는 6\n",
        "* 3!\n",
        "  * factorial(4)이면 4 > 1 이므로 4 * factorial(3)\n",
        "  * factorial(3)은 위 결과에 따라 3! 이므로 return 3 * 2 * 1 = 6\n",
        "  * 따라서 4 * factorial(3) = 4 * 3! = 4 * 3 * 2 * 1\n",
        "  * 결과는 24\n"
      ],
      "metadata": {
        "id": "edgsw-3umg-S"
      }
    },
    {
      "cell_type": "code",
      "source": [
        "factorial(4)"
      ],
      "metadata": {
        "colab": {
          "base_uri": "https://localhost:8080/"
        },
        "id": "PCjiKqXCmhBO",
        "outputId": "c6528072-7b88-4584-b37b-70e57c7687b0"
      },
      "execution_count": 7,
      "outputs": [
        {
          "output_type": "execute_result",
          "data": {
            "text/plain": [
              "24"
            ]
          },
          "metadata": {},
          "execution_count": 7
        }
      ]
    },
    {
      "cell_type": "code",
      "source": [
        "def factorial2(num) :\n",
        "  if num <= 1 :\n",
        "    return 1\n",
        "  return num * factorial(num-1)"
      ],
      "metadata": {
        "id": "AALXKoadmhEJ"
      },
      "execution_count": 10,
      "outputs": []
    },
    {
      "cell_type": "code",
      "source": [
        "factorial2(4)"
      ],
      "metadata": {
        "colab": {
          "base_uri": "https://localhost:8080/"
        },
        "id": "XA6ts9Femh13",
        "outputId": "c6b5ee56-88ff-4e95-d2e3-4b3f8debc241"
      },
      "execution_count": 12,
      "outputs": [
        {
          "output_type": "execute_result",
          "data": {
            "text/plain": [
              "24"
            ]
          },
          "metadata": {},
          "execution_count": 12
        }
      ]
    },
    {
      "cell_type": "code",
      "source": [],
      "metadata": {
        "id": "C-sMMWyCmhyX"
      },
      "execution_count": null,
      "outputs": []
    },
    {
      "cell_type": "code",
      "source": [],
      "metadata": {
        "id": "qIA74qdHmhu3"
      },
      "execution_count": null,
      "outputs": []
    },
    {
      "cell_type": "code",
      "source": [],
      "metadata": {
        "id": "ZpAHmn6mmhr6"
      },
      "execution_count": null,
      "outputs": []
    },
    {
      "cell_type": "code",
      "source": [],
      "metadata": {
        "id": "qbbkgeJWmhob"
      },
      "execution_count": null,
      "outputs": []
    },
    {
      "cell_type": "code",
      "source": [],
      "metadata": {
        "id": "qv66aRkamhle"
      },
      "execution_count": null,
      "outputs": []
    },
    {
      "cell_type": "code",
      "source": [],
      "metadata": {
        "id": "9AVPd2lPmhh_"
      },
      "execution_count": null,
      "outputs": []
    },
    {
      "cell_type": "code",
      "source": [],
      "metadata": {
        "id": "TxBaN6ypmhee"
      },
      "execution_count": null,
      "outputs": []
    },
    {
      "cell_type": "code",
      "source": [],
      "metadata": {
        "id": "x451Pjq8mhbH"
      },
      "execution_count": null,
      "outputs": []
    },
    {
      "cell_type": "code",
      "source": [],
      "metadata": {
        "id": "ldJe7saCmhYn"
      },
      "execution_count": null,
      "outputs": []
    },
    {
      "cell_type": "code",
      "source": [],
      "metadata": {
        "id": "Qfl05YUvmhUi"
      },
      "execution_count": null,
      "outputs": []
    },
    {
      "cell_type": "code",
      "source": [],
      "metadata": {
        "id": "1Nqdx9u3mhRn"
      },
      "execution_count": null,
      "outputs": []
    },
    {
      "cell_type": "code",
      "source": [],
      "metadata": {
        "id": "hEs-85z_mhOQ"
      },
      "execution_count": null,
      "outputs": []
    },
    {
      "cell_type": "code",
      "source": [],
      "metadata": {
        "id": "cJLWHH2mmhJa"
      },
      "execution_count": null,
      "outputs": []
    },
    {
      "cell_type": "code",
      "source": [],
      "metadata": {
        "id": "NTljVkEGmhGp"
      },
      "execution_count": null,
      "outputs": []
    }
  ]
}