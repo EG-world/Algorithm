{
  "nbformat": 4,
  "nbformat_minor": 0,
  "metadata": {
    "colab": {
      "provenance": [],
      "authorship_tag": "ABX9TyM0bPLIbS9CEX+fEb3OS2nw",
      "include_colab_link": true
    },
    "kernelspec": {
      "name": "python3",
      "display_name": "Python 3"
    },
    "language_info": {
      "name": "python"
    }
  },
  "cells": [
    {
      "cell_type": "markdown",
      "metadata": {
        "id": "view-in-github",
        "colab_type": "text"
      },
      "source": [
        "<a href=\"https://colab.research.google.com/github/EG-world/Algorithm/blob/main/4_%EB%8F%99%EC%A0%81_%ED%94%84%EB%A1%9C%EA%B7%B8%EB%9E%98%EB%B0%8D.ipynb\" target=\"_parent\"><img src=\"https://colab.research.google.com/assets/colab-badge.svg\" alt=\"Open In Colab\"/></a>"
      ]
    },
    {
      "cell_type": "markdown",
      "source": [
        "# **1. 동적 프로그래밍(Dynamic Programming)**\n",
        "* 복잡한 문제를 작은 하위 단위 문제들로 나누고 그 결과를 재사용하여 효율적으로 문제를 해결하는 알고리즘 기법\n",
        "* 주어진 문제를 풀 때, 같은 하위 문제를 여러번 푸는 대신, 그 결과를 저장해 두고 필요할 때 다시 사용하는 방식"
      ],
      "metadata": {
        "id": "NJzGf3IINr2a"
      }
    },
    {
      "cell_type": "markdown",
      "source": [
        "### 1-1. 동적 프로그래밍의 접근 방식\n",
        "* 메모이제이션(Bottom-Down) : 큰 문제를 풀기 위해 재귀적으로 하위 문제들을 풀면서, 이미 계산된 하위 문제는 저장된 값을 재사용하는 방식\n",
        "* 테이블 방식(Bottom-Up) : 작은 하위 문제부터 시작해 차례대로 계산해가며, 최종적으로 큰 문제를 해결하는 방식"
      ],
      "metadata": {
        "id": "By7Pqxv4OBhN"
      }
    },
    {
      "cell_type": "markdown",
      "source": [
        "### 1-2. 동적 계획법 알고리즘\n",
        "* 피보나치 수열 n을 입력받아서 계산\n",
        "* [피보나치](https://namu.wiki/w/%ED%94%BC%EB%B3%B4%EB%82%98%EC%B9%98%20%EC%88%98%EC%97%B4)\n",
        "\n",
        "```\n",
        "함수 이름을 fibonacci 라고 하면\n",
        "fibonacci(0) : 0\n",
        "fibonacci(1) : 1\n",
        "fibonacci(2) : 1\n",
        "fibonacci(3) : 2\n",
        "fibonacci(4) : 3\n",
        "fibonacci(5) : 5\n",
        "fibonacci(6) : 8\n",
        "...\n",
        "```"
      ],
      "metadata": {
        "id": "EVPFqEmROXdc"
      }
    },
    {
      "cell_type": "code",
      "source": [
        "# 재귀함수 사용\n",
        "def fibonacci(n) :\n",
        "  if n <= 1:\n",
        "    return n\n",
        "  else :\n",
        "    return fibonacci(n-1) + fibonacci(n-2)"
      ],
      "metadata": {
        "id": "mtrx7AkoOsBO"
      },
      "execution_count": null,
      "outputs": []
    },
    {
      "cell_type": "code",
      "source": [
        "fibonacci(6)"
      ],
      "metadata": {
        "colab": {
          "base_uri": "https://localhost:8080/"
        },
        "id": "_8GrrrSLPhue",
        "outputId": "b0ea345e-a220-423a-9694-6fce54eaf55e"
      },
      "execution_count": null,
      "outputs": [
        {
          "output_type": "execute_result",
          "data": {
            "text/plain": [
              "8"
            ]
          },
          "metadata": {},
          "execution_count": 2
        }
      ]
    },
    {
      "cell_type": "code",
      "source": [
        "# 동적 프로그래밍 활용\n",
        "def fibonacci(num) :\n",
        "  cache = [0 for idx in range(num+1)]\n",
        "  # print(cache)\n",
        "  cache[0] = 0\n",
        "  cache[1] = 1\n",
        "  for idx in range(2, num+1) :\n",
        "    cache[idx] = cache[idx-1] + cache[idx-2]\n",
        "  return cache[num]"
      ],
      "metadata": {
        "id": "iToJW0ayPicu"
      },
      "execution_count": null,
      "outputs": []
    },
    {
      "cell_type": "code",
      "source": [
        "fibonacci(6)"
      ],
      "metadata": {
        "colab": {
          "base_uri": "https://localhost:8080/"
        },
        "id": "KoHztpehPvLo",
        "outputId": "5336824d-f897-4800-927f-a52ba62c1b43"
      },
      "execution_count": null,
      "outputs": [
        {
          "output_type": "execute_result",
          "data": {
            "text/plain": [
              "8"
            ]
          },
          "metadata": {},
          "execution_count": 6
        }
      ]
    },
    {
      "cell_type": "markdown",
      "source": [
        "### 문제1\n",
        "* 2 * n 타일링\n",
        "* [링크](https://www.acmicpc.net/problem/11726)"
      ],
      "metadata": {
        "id": "c7ms8xgRQard"
      }
    },
    {
      "cell_type": "code",
      "source": [
        "def baekjun(row) :\n",
        "  li = [0 for i in range(row+1)]\n",
        "  li[0] = 1\n",
        "  li[1] = 1\n",
        "  for idx in range(2,row+1) :\n",
        "    li[idx] = li[idx-1] + li[idx-2]\n",
        "  return li[row] % 10007"
      ],
      "metadata": {
        "id": "cflK2x2URhpL"
      },
      "execution_count": 43,
      "outputs": []
    },
    {
      "cell_type": "code",
      "source": [
        "row = int(input('숫자입력: '))\n",
        "baekjun(row)"
      ],
      "metadata": {
        "colab": {
          "base_uri": "https://localhost:8080/"
        },
        "id": "BSy7fPUPQalk",
        "outputId": "baefb5fe-1bf6-42cd-b741-6e05265fab62"
      },
      "execution_count": 44,
      "outputs": [
        {
          "name": "stdout",
          "output_type": "stream",
          "text": [
            "숫자입력: 4\n"
          ]
        },
        {
          "output_type": "execute_result",
          "data": {
            "text/plain": [
              "5"
            ]
          },
          "metadata": {},
          "execution_count": 44
        }
      ]
    },
    {
      "cell_type": "code",
      "source": [
        "dp = [0] * 1001"
      ],
      "metadata": {
        "id": "DJ-lQfyzrtD8"
      },
      "execution_count": 45,
      "outputs": []
    },
    {
      "cell_type": "code",
      "source": [
        "def tile(num) :\n",
        "  dp[1] = 1\n",
        "  dp[2] = 2\n",
        "  for idx in range(3, 1001) :\n",
        "    dp[idx] = dp[idx-1] + dp[idx-2]\n",
        "  return dp[num] % 10007"
      ],
      "metadata": {
        "id": "cZQoRCR6Qaip"
      },
      "execution_count": 61,
      "outputs": []
    },
    {
      "cell_type": "code",
      "source": [
        "tile(9)"
      ],
      "metadata": {
        "id": "zZa0n2GXQabn",
        "colab": {
          "base_uri": "https://localhost:8080/"
        },
        "outputId": "a6fb8a66-8b65-4b73-f156-cbe75d9b8435"
      },
      "execution_count": 62,
      "outputs": [
        {
          "name": "stdout",
          "output_type": "stream",
          "text": [
            "3\n"
          ]
        },
        {
          "output_type": "execute_result",
          "data": {
            "text/plain": [
              "55"
            ]
          },
          "metadata": {},
          "execution_count": 62
        }
      ]
    },
    {
      "cell_type": "markdown",
      "source": [
        "### 문제2\n",
        "* 파도반 수열\n",
        "* [링크](https://www.acmicpc.net/problem/9461)"
      ],
      "metadata": {
        "id": "hXfqpAosQaYq"
      }
    },
    {
      "cell_type": "code",
      "source": [
        "def wave(num) :\n",
        "  wave_li = [0 for _ in range(num+1)]\n",
        "  wave_li[0] = 1\n",
        "  wave_li[1] = 1\n",
        "  wave_li[2] = 1\n",
        "  if num > 2 :\n",
        "    for idx in range(3,num+1) :\n",
        "      wave_li[idx] = wave_li[idx-3] + wave_li[idx-2]\n",
        "  else :\n",
        "    return\n",
        "  return wave_li[num-1]"
      ],
      "metadata": {
        "id": "kuUKYWdIQaVK"
      },
      "execution_count": 55,
      "outputs": []
    },
    {
      "cell_type": "code",
      "source": [
        "wave(10)"
      ],
      "metadata": {
        "id": "C8_ToU5iQaSO",
        "colab": {
          "base_uri": "https://localhost:8080/"
        },
        "outputId": "8fde3352-9bf8-42a9-99ef-305b4710cc37"
      },
      "execution_count": 60,
      "outputs": [
        {
          "output_type": "execute_result",
          "data": {
            "text/plain": [
              "9"
            ]
          },
          "metadata": {},
          "execution_count": 60
        }
      ]
    },
    {
      "cell_type": "code",
      "source": [
        "dp = [0] *101\n",
        "dp[1] = 1\n",
        "dp[2] = 1\n",
        "dp[3] =1\n",
        "\n",
        "for index in range(0, 98) :\n",
        "  dp[index+3] = dp[index] + dp[index+1]\n",
        "\n",
        "num = int(input())\n",
        "print(dp[num])"
      ],
      "metadata": {
        "id": "9KkiW-q5QaOt"
      },
      "execution_count": null,
      "outputs": []
    },
    {
      "cell_type": "code",
      "source": [
        "# 테이블 방식\n",
        "# 작은 하위 문제들부터 차례로 해결해 가며 결과를 테이블에 저장\n",
        "def fibonacci(num) :\n",
        "  if num <= 1 :\n",
        "    return num\n",
        "  dp = [0] * (num+1)\n",
        "  dp[1] = 1\n",
        "\n",
        "  for i in range(2, num+1) :\n",
        "    dp[i] = dp[i-1] + dp[i-2]\n",
        "  return dp[num]"
      ],
      "metadata": {
        "id": "MRm2cfHhQaLw"
      },
      "execution_count": 65,
      "outputs": []
    },
    {
      "cell_type": "code",
      "source": [
        "fibonacci(6)"
      ],
      "metadata": {
        "id": "0MivzefZQaIQ",
        "colab": {
          "base_uri": "https://localhost:8080/"
        },
        "outputId": "49beed21-33f7-431b-d803-b6e0bd037e30"
      },
      "execution_count": 67,
      "outputs": [
        {
          "output_type": "execute_result",
          "data": {
            "text/plain": [
              "8"
            ]
          },
          "metadata": {},
          "execution_count": 67
        }
      ]
    },
    {
      "cell_type": "code",
      "source": [],
      "metadata": {
        "id": "GeS6yJCoQaFT"
      },
      "execution_count": null,
      "outputs": []
    },
    {
      "cell_type": "code",
      "source": [],
      "metadata": {
        "id": "Hy3vtM7MQaCY"
      },
      "execution_count": null,
      "outputs": []
    },
    {
      "cell_type": "code",
      "source": [],
      "metadata": {
        "id": "aKC-AlTjQZ-3"
      },
      "execution_count": null,
      "outputs": []
    },
    {
      "cell_type": "code",
      "source": [],
      "metadata": {
        "id": "iaBXhx1pQZ77"
      },
      "execution_count": null,
      "outputs": []
    },
    {
      "cell_type": "code",
      "source": [],
      "metadata": {
        "id": "b8Y6yFG1QZ4_"
      },
      "execution_count": null,
      "outputs": []
    },
    {
      "cell_type": "code",
      "source": [],
      "metadata": {
        "id": "20g3g-tFQZ2D"
      },
      "execution_count": null,
      "outputs": []
    },
    {
      "cell_type": "code",
      "source": [],
      "metadata": {
        "id": "kmzwr0YZQZzH"
      },
      "execution_count": null,
      "outputs": []
    },
    {
      "cell_type": "code",
      "source": [],
      "metadata": {
        "id": "KQo4gBb0QZvp"
      },
      "execution_count": null,
      "outputs": []
    },
    {
      "cell_type": "code",
      "source": [],
      "metadata": {
        "id": "nS0YBC2bPvzo"
      },
      "execution_count": null,
      "outputs": []
    }
  ]
}