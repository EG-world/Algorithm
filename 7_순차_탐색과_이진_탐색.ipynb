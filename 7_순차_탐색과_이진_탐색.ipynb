{
  "nbformat": 4,
  "nbformat_minor": 0,
  "metadata": {
    "colab": {
      "provenance": [],
      "authorship_tag": "ABX9TyPUa9oU1/Ph2/x+c38SIqcH",
      "include_colab_link": true
    },
    "kernelspec": {
      "name": "python3",
      "display_name": "Python 3"
    },
    "language_info": {
      "name": "python"
    }
  },
  "cells": [
    {
      "cell_type": "markdown",
      "metadata": {
        "id": "view-in-github",
        "colab_type": "text"
      },
      "source": [
        "<a href=\"https://colab.research.google.com/github/EG-world/Algorithm/blob/main/7_%EC%88%9C%EC%B0%A8_%ED%83%90%EC%83%89%EA%B3%BC_%EC%9D%B4%EC%A7%84_%ED%83%90%EC%83%89.ipynb\" target=\"_parent\"><img src=\"https://colab.research.google.com/assets/colab-badge.svg\" alt=\"Open In Colab\"/></a>"
      ]
    },
    {
      "cell_type": "markdown",
      "source": [
        "# **1. 순차 탐색(Sequential Search)**\n",
        "* ㅏㄴ색은 여러 데이터 중에서 원하는 데이터를 찾아내는 것을 의미\n",
        "* 순차 탐색 : 데이터가 담겨있는 리스트를 앞에서부터 하나씩 비교해서 데이터를 찾는 방법"
      ],
      "metadata": {
        "id": "-3WdgDvE-fdm"
      }
    },
    {
      "cell_type": "code",
      "source": [],
      "metadata": {
        "id": "AiQZlU9T-wtm"
      },
      "execution_count": null,
      "outputs": []
    }
  ]
}