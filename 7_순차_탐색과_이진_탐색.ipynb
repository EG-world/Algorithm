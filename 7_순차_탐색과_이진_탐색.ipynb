{
  "nbformat": 4,
  "nbformat_minor": 0,
  "metadata": {
    "colab": {
      "provenance": [],
      "authorship_tag": "ABX9TyP66EZz6JfclE65K2/XkNCr",
      "include_colab_link": true
    },
    "kernelspec": {
      "name": "python3",
      "display_name": "Python 3"
    },
    "language_info": {
      "name": "python"
    }
  },
  "cells": [
    {
      "cell_type": "markdown",
      "metadata": {
        "id": "view-in-github",
        "colab_type": "text"
      },
      "source": [
        "<a href=\"https://colab.research.google.com/github/EG-world/Algorithm/blob/main/7_%EC%88%9C%EC%B0%A8_%ED%83%90%EC%83%89%EA%B3%BC_%EC%9D%B4%EC%A7%84_%ED%83%90%EC%83%89.ipynb\" target=\"_parent\"><img src=\"https://colab.research.google.com/assets/colab-badge.svg\" alt=\"Open In Colab\"/></a>"
      ]
    },
    {
      "cell_type": "markdown",
      "source": [
        "# **1. 순차 탐색(Sequential Search)**\n",
        "* ㅏㄴ색은 여러 데이터 중에서 원하는 데이터를 찾아내는 것을 의미\n",
        "* 순차 탐색 : 데이터가 담겨있는 리스트를 앞에서부터 하나씩 비교해서 데이터를 찾는 방법\n",
        "* 최악의 경우 리스트 길이가 n일 떄 n번 비교해야 함 O($n$)"
      ],
      "metadata": {
        "id": "-3WdgDvE-fdm"
      }
    },
    {
      "cell_type": "code",
      "source": [
        "from random import *"
      ],
      "metadata": {
        "id": "AiQZlU9T-wtm"
      },
      "execution_count": 1,
      "outputs": []
    },
    {
      "cell_type": "code",
      "source": [
        "data_list = list()\n",
        "for num in range(10) :\n",
        "  data_list.append(random.randint(1,100))\n",
        "data_list"
      ],
      "metadata": {
        "colab": {
          "base_uri": "https://localhost:8080/"
        },
        "id": "Cn7CP4DG-2h_",
        "outputId": "0ec01e51-0b3c-43d3-f2e3-49f1d112bde4"
      },
      "execution_count": 11,
      "outputs": [
        {
          "output_type": "execute_result",
          "data": {
            "text/plain": [
              "[94, 15, 48, 43, 32, 73, 34, 42, 69, 83]"
            ]
          },
          "metadata": {},
          "execution_count": 11
        }
      ]
    },
    {
      "cell_type": "code",
      "source": [
        "def sequencial(data_list, search_data) :\n",
        "  for idx in range(len(data_list)) :\n",
        "    if data_list[idx] == search_data :\n",
        "      return idx\n",
        "  return -1\n"
      ],
      "metadata": {
        "id": "ejRteNNW-2vN"
      },
      "execution_count": 22,
      "outputs": []
    },
    {
      "cell_type": "code",
      "source": [
        "sequencial(data_list, 11) # 찾으면 index, 찾지 못하면 -1"
      ],
      "metadata": {
        "colab": {
          "base_uri": "https://localhost:8080/"
        },
        "id": "d-mCWvED-2yG",
        "outputId": "8fc961ec-7f36-40c8-843c-f4b9867a5b88"
      },
      "execution_count": 21,
      "outputs": [
        {
          "output_type": "execute_result",
          "data": {
            "text/plain": [
              "-1"
            ]
          },
          "metadata": {},
          "execution_count": 21
        }
      ]
    },
    {
      "cell_type": "markdown",
      "source": [
        "# **2. 이진탐색(Binary Search)**\n",
        "\n",
        "<img src=\"https://www.mathwarehouse.com/programming/images/binary-vs-linear-search/binary-and-linear-search-animations.gif\">"
      ],
      "metadata": {
        "id": "EWQ8--27-20e"
      }
    },
    {
      "cell_type": "markdown",
      "source": [
        "### 2-1. 분할 정복 알고리즘과 이진 탐색\n",
        "* 분할 정복 알고리즘\n",
        "  * 문제를 하나 또는 둘 이상으로 나눔\n",
        "  * 나눠진 문제가 충분히 작고, 해결이 가능하다면 해결하고, 그렇지 않다면 다시 나눔\n",
        "* 이진 탐색\n",
        "  * 리스트를 두개의 서브 리스트로 나눔\n",
        "  * 검색할 숫자가 중간값 보다 작으면 앞부분의 서브 리스트에서 검색할 숫자를 찾음\n",
        "  * 검색할 숫자가 중간갑 보다 크면 뒷부분의 서브 리스트에서 검색할 숫자를 찾음"
      ],
      "metadata": {
        "id": "YtrDD6Xq-301"
      }
    },
    {
      "cell_type": "code",
      "source": [
        "def bst(li, data) :\n",
        "  step = 0\n",
        "  temp = li\n",
        "  while True:\n",
        "    step += 1\n",
        "    print(f'step={step}')\n",
        "    mid = len(li)//2\n",
        "    print(f'midvalue={li[mid]}')\n",
        "    if data > li[mid] :\n",
        "      li = li[mid+1:]\n",
        "    elif data < li[mid] :\n",
        "      li = li[:mid]\n",
        "    else :\n",
        "      return temp.index(data)"
      ],
      "metadata": {
        "id": "m0dpsg-q-3xV"
      },
      "execution_count": 44,
      "outputs": []
    },
    {
      "cell_type": "code",
      "source": [
        "data_list = [1,3,5,7,11,13,17,19,23,29,31,37,41,43,47,53,59]\n",
        "bst(data_list, 13)"
      ],
      "metadata": {
        "colab": {
          "base_uri": "https://localhost:8080/"
        },
        "id": "DIWsmLOz-3sE",
        "outputId": "e4c41d06-60f0-44d3-842b-ab83de28f99b"
      },
      "execution_count": 47,
      "outputs": [
        {
          "output_type": "stream",
          "name": "stdout",
          "text": [
            "step=1\n",
            "midvalue=23\n",
            "step=2\n",
            "midvalue=11\n",
            "step=3\n",
            "midvalue=17\n",
            "step=4\n",
            "midvalue=13\n"
          ]
        },
        {
          "output_type": "execute_result",
          "data": {
            "text/plain": [
              "5"
            ]
          },
          "metadata": {},
          "execution_count": 47
        }
      ]
    },
    {
      "cell_type": "markdown",
      "source": [
        "### 2-2. 알고리즘 구현하기\n",
        "* 이진 탐색은 데이터가 정렬되어 있는 상태에서 진행\n",
        "* 데이터가 [2, 3, 8, 12, 20]\n",
        "  * binary_search(data_list, find_data) 함수를 만듦\n",
        "  * data_list : 데이터가 담긴 리스트\n",
        "  * find_data : 찾는 숫자\n",
        "  * data_list : 중간값을 find_data와 비교해서\n",
        "    * find_data가 data_list의 중간값보다 작다면\n",
        "      * 맨 앞부터 data_list의 중간까지 에서 find_data를 찾기\n",
        "    * find_data가 data_list의 중간값보다 크다면\n",
        "      * data_list의 중간부터 끝까지에서 find_data를 찾기\n",
        "    * 그렇지 않다면 data_list의 중간값은 find_data인 경우"
      ],
      "metadata": {
        "id": "CkH0MOVg-3pJ"
      }
    },
    {
      "cell_type": "code",
      "source": [
        "def binary_search(data, search) :\n",
        "  print(data)\n",
        "  if len(data) == 1 and search == data[0] :\n",
        "    return True\n",
        "  if len(data) == 1 and search != data[0] :\n",
        "    return False\n",
        "  if len(data) == 0 :\n",
        "    return False\n",
        "\n",
        "  mid = len(data) // 2\n",
        "  if search == data[mid] :\n",
        "    return True\n",
        "  else :\n",
        "    if search > data[mid] :\n",
        "      return binary_search(data[mid+1:], search)\n",
        "    else :\n",
        "      return binary_search(data[:mid], search)"
      ],
      "metadata": {
        "id": "r0mivUJ2-3mN"
      },
      "execution_count": 48,
      "outputs": []
    },
    {
      "cell_type": "code",
      "source": [
        "import random"
      ],
      "metadata": {
        "id": "l7GdnLbj-3jR"
      },
      "execution_count": 49,
      "outputs": []
    },
    {
      "cell_type": "code",
      "source": [
        "data_list = random.sample(range(100), 10)\n",
        "data_list"
      ],
      "metadata": {
        "colab": {
          "base_uri": "https://localhost:8080/"
        },
        "id": "IS23uvz--3gW",
        "outputId": "0c3ada5b-2767-4135-c5b9-e3382d06f387"
      },
      "execution_count": 50,
      "outputs": [
        {
          "output_type": "execute_result",
          "data": {
            "text/plain": [
              "[78, 57, 64, 25, 72, 54, 13, 49, 26, 30]"
            ]
          },
          "metadata": {},
          "execution_count": 50
        }
      ]
    },
    {
      "cell_type": "code",
      "source": [
        "data_list.sort()\n",
        "data_list"
      ],
      "metadata": {
        "colab": {
          "base_uri": "https://localhost:8080/"
        },
        "id": "XV14Afti-3db",
        "outputId": "e73c6d29-9dd4-4a99-93b3-54bc4a6a2b56"
      },
      "execution_count": 52,
      "outputs": [
        {
          "output_type": "execute_result",
          "data": {
            "text/plain": [
              "[13, 25, 26, 30, 49, 54, 57, 64, 72, 78]"
            ]
          },
          "metadata": {},
          "execution_count": 52
        }
      ]
    },
    {
      "cell_type": "code",
      "source": [
        "binary_search(data_list, 57)"
      ],
      "metadata": {
        "colab": {
          "base_uri": "https://localhost:8080/"
        },
        "id": "SecsLklz-3ai",
        "outputId": "76bcf30f-4260-437f-ca91-57d5c976a02b"
      },
      "execution_count": 54,
      "outputs": [
        {
          "output_type": "stream",
          "name": "stdout",
          "text": [
            "[13, 25, 26, 30, 49, 54, 57, 64, 72, 78]\n",
            "[57, 64, 72, 78]\n",
            "[57, 64]\n",
            "[57]\n"
          ]
        },
        {
          "output_type": "execute_result",
          "data": {
            "text/plain": [
              "True"
            ]
          },
          "metadata": {},
          "execution_count": 54
        }
      ]
    },
    {
      "cell_type": "code",
      "source": [],
      "metadata": {
        "id": "XTI_2xou-3YK"
      },
      "execution_count": null,
      "outputs": []
    },
    {
      "cell_type": "code",
      "source": [],
      "metadata": {
        "id": "74Clr_V9-3VO"
      },
      "execution_count": null,
      "outputs": []
    },
    {
      "cell_type": "code",
      "source": [],
      "metadata": {
        "id": "ZtuNO5p7-3SU"
      },
      "execution_count": null,
      "outputs": []
    },
    {
      "cell_type": "code",
      "source": [],
      "metadata": {
        "id": "GKDmi_s_-3PZ"
      },
      "execution_count": null,
      "outputs": []
    },
    {
      "cell_type": "code",
      "source": [],
      "metadata": {
        "id": "U_mPAEZ2-3NB"
      },
      "execution_count": null,
      "outputs": []
    },
    {
      "cell_type": "code",
      "source": [],
      "metadata": {
        "id": "tNavBoO--3KI"
      },
      "execution_count": null,
      "outputs": []
    },
    {
      "cell_type": "code",
      "source": [],
      "metadata": {
        "id": "tFPBLTJe-3HM"
      },
      "execution_count": null,
      "outputs": []
    },
    {
      "cell_type": "code",
      "source": [],
      "metadata": {
        "id": "DqKMdYLI-3EP"
      },
      "execution_count": null,
      "outputs": []
    },
    {
      "cell_type": "code",
      "source": [],
      "metadata": {
        "id": "EvzSGFtw-3AJ"
      },
      "execution_count": null,
      "outputs": []
    },
    {
      "cell_type": "code",
      "source": [],
      "metadata": {
        "id": "-iJ03Sdl-27e"
      },
      "execution_count": null,
      "outputs": []
    },
    {
      "cell_type": "code",
      "source": [],
      "metadata": {
        "id": "7Vvq4NQr-22z"
      },
      "execution_count": null,
      "outputs": []
    }
  ]
}