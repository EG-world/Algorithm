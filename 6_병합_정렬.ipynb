{
  "nbformat": 4,
  "nbformat_minor": 0,
  "metadata": {
    "colab": {
      "provenance": [],
      "authorship_tag": "ABX9TyOMeaj/DshjINzFVzg5vODL",
      "include_colab_link": true
    },
    "kernelspec": {
      "name": "python3",
      "display_name": "Python 3"
    },
    "language_info": {
      "name": "python"
    }
  },
  "cells": [
    {
      "cell_type": "markdown",
      "metadata": {
        "id": "view-in-github",
        "colab_type": "text"
      },
      "source": [
        "<a href=\"https://colab.research.google.com/github/EG-world/Algorithm/blob/main/6_%EB%B3%91%ED%95%A9_%EC%A0%95%EB%A0%AC.ipynb\" target=\"_parent\"><img src=\"https://colab.research.google.com/assets/colab-badge.svg\" alt=\"Open In Colab\"/></a>"
      ]
    },
    {
      "cell_type": "markdown",
      "source": [
        "# **1. 병합정렬(merge sort)**\n",
        "* 재귀용법을 활용한 정렬 알고리즘\n",
        "* 리스트를 절반으로 잘라 비슷한 크기의 두 부분 리스트로 나눔\n",
        "* 각 부분 리스트를 재귀적으로 합병 정렬을 이용해 정렬\n",
        "* 두 부분 리스트를 다시 하나의 정렬된 리스트로 합병"
      ],
      "metadata": {
        "id": "h-9At2yK_WJR"
      }
    },
    {
      "cell_type": "markdown",
      "source": [
        "<center><img src=\"https://upload.wikimedia.org/wikipedia/commons/c/cc/Merge-sort-example-300px.gif\" width=500/></center>"
      ],
      "metadata": {
        "id": "6_6LPQTo_rw4"
      }
    },
    {
      "cell_type": "code",
      "source": [
        "def mergesort(arr):\n",
        "    if len(arr) < 2:\n",
        "        return arr\n",
        "\n",
        "    mid = len(arr) // 2\n",
        "    low_arr = mergesort(arr[:mid])\n",
        "    high_arr = mergesort(arr[mid:])\n",
        "    merged_arr = []\n",
        "    l = h = 0\n",
        "    while l < len(low_arr) and h < len(high_arr):\n",
        "      if low_arr[l] < high_arr[h]:\n",
        "        merged_arr.append(low_arr[l])\n",
        "        l += 1\n",
        "      else:\n",
        "        merged_arr.append(high_arr[h])\n",
        "        h += 1\n",
        "    merged_arr += low_arr[l:]\n",
        "    merged_arr += high_arr[h:]\n",
        "    return merged_arr"
      ],
      "metadata": {
        "id": "thsbFq47_0zs"
      },
      "execution_count": null,
      "outputs": []
    },
    {
      "cell_type": "markdown",
      "source": [
        "# **2. 알고리즘 이해하기**\n",
        "\n",
        "```\n",
        "data_list = [1,9,3,2]\n",
        "```\n",
        "1. [1,9], [3,2]로 나눔\n",
        "2. 앞 부분은 [1], [9]로 나누고, 뒷부분은 [3], [2]로 나눔\n",
        "3. 정렬해서 합침 [1,9], [2,3]\n",
        "4. [1,9], [2,3]를 합침(단, 아래와 같은 조건으로\n",
        "  * 1 < 2 이므로 리스트에 1을 저장 [1]\n",
        "  * 9 > 2 이므로 리스트에 2를 추가 [1,2]\n",
        "  * 9 > 3 이므로 리스트에 3을 추가 [1,2,3]\n",
        "  * 9 밖에 없으니 리스트에 9를 추가 [1,2,3,9]\n",
        "  "
      ],
      "metadata": {
        "id": "wHxkl1JoVxYf"
      }
    },
    {
      "cell_type": "markdown",
      "source": [
        "# **3. 알고리즘 구현하기**"
      ],
      "metadata": {
        "id": "LoV-GCGkVxPI"
      }
    },
    {
      "cell_type": "markdown",
      "source": [
        "### 3-1. mergesplit 함수\n",
        "* 만약 리스트 갯수가 1개면 해당 값을 리턴\n",
        "* 그렇지 않으면 리스트를 앞 뒤 두개로 나눔(절반)\n",
        "\n"
      ],
      "metadata": {
        "id": "KetYJOVHVxM_"
      }
    },
    {
      "cell_type": "code",
      "source": [
        "def mergesplit(data) :\n",
        "  medium = int(len(data)/2)\n",
        "  left = data[:medium]\n",
        "  right = data[medium:]\n",
        "  print(left, right)"
      ],
      "metadata": {
        "id": "BZYwivuLVxLH"
      },
      "execution_count": 1,
      "outputs": []
    },
    {
      "cell_type": "code",
      "source": [
        "data_list = [1, 5, 3, 2, 4, 10]\n",
        "mergesplit(data_list)"
      ],
      "metadata": {
        "id": "jloJa-ZnVxJI",
        "colab": {
          "base_uri": "https://localhost:8080/"
        },
        "outputId": "43664d2a-ffeb-4206-8271-53899740eb22"
      },
      "execution_count": 4,
      "outputs": [
        {
          "output_type": "stream",
          "name": "stdout",
          "text": [
            "[1, 5, 3] [2, 4, 10]\n"
          ]
        }
      ]
    },
    {
      "cell_type": "markdown",
      "source": [
        "### 3-2. merge 함수\n",
        "* 리스트 변수 하나 만듦(sorted)\n",
        "* left_index, right_index = 0\n",
        "* left와 right를 확인하여 값을 비교\n",
        "* 만약 left_index나 right_index가 이미 left 또는 right 리스트를 모두 순회했다면 그 반대쪽 데이터를 그대로 넣고 해당 인덱스를 1증가\n"
      ],
      "metadata": {
        "id": "Dxg85rG5VxHH"
      }
    },
    {
      "cell_type": "code",
      "source": [
        "def mergesplit(data) :\n",
        "  if len(data) <= 1:\n",
        "    return data\n",
        "\n",
        "  medium = int(len(data)/2)\n",
        "  left = mergesplit(data[:medium])\n",
        "  right = mergesplit(data[medium:])\n",
        "  return merge(left, right)\n",
        "\n",
        "def merge(left, right) :\n",
        "  merged = list()\n",
        "  left_index, right_index = 0, 0\n",
        "\n",
        "  while len(left) > left_index and len(right) > right_index :\n",
        "    if left[left_index] > right[right_index] :\n",
        "      merged.append(right[right_index])\n",
        "      right_index += 1\n",
        "    else :\n",
        "      merged.append(left[left_index])\n",
        "      left_index += 1\n",
        "\n",
        "  # right 데이터가 없을 때\n",
        "  while len(left) > left_index :\n",
        "    merged.append(left[left_index])\n",
        "    left_index += 1\n",
        "\n",
        "  # left 데이터가 없을 때\n",
        "  while len(right) > right_index :\n",
        "    merged.append(right[right_index])\n",
        "    right_index += 1\n",
        "\n",
        "  return merged"
      ],
      "metadata": {
        "id": "F9S0As6SyHNw"
      },
      "execution_count": 7,
      "outputs": []
    },
    {
      "cell_type": "code",
      "source": [
        "import random\n",
        "data_list = random.sample(range(100), 10)\n",
        "print(data_list)\n",
        "mergesplit(data_list)"
      ],
      "metadata": {
        "colab": {
          "base_uri": "https://localhost:8080/"
        },
        "id": "bkICls0ezp00",
        "outputId": "7182ea13-b131-46ba-b411-0bee92a9bddb"
      },
      "execution_count": 9,
      "outputs": [
        {
          "output_type": "stream",
          "name": "stdout",
          "text": [
            "[76, 62, 16, 38, 17, 29, 25, 7, 44, 34]\n"
          ]
        },
        {
          "output_type": "execute_result",
          "data": {
            "text/plain": [
              "[7, 16, 17, 25, 29, 34, 38, 44, 62, 76]"
            ]
          },
          "metadata": {},
          "execution_count": 9
        }
      ]
    },
    {
      "cell_type": "code",
      "source": [],
      "metadata": {
        "id": "UUKM7Yie0Dnu"
      },
      "execution_count": null,
      "outputs": []
    }
  ]
}