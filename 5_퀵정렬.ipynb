{
  "nbformat": 4,
  "nbformat_minor": 0,
  "metadata": {
    "colab": {
      "provenance": [],
      "authorship_tag": "ABX9TyOuRJugky4vBfB9jdoIp+eO",
      "include_colab_link": true
    },
    "kernelspec": {
      "name": "python3",
      "display_name": "Python 3"
    },
    "language_info": {
      "name": "python"
    }
  },
  "cells": [
    {
      "cell_type": "markdown",
      "metadata": {
        "id": "view-in-github",
        "colab_type": "text"
      },
      "source": [
        "<a href=\"https://colab.research.google.com/github/EG-world/Algorithm/blob/main/5_%ED%80%B5%EC%A0%95%EB%A0%AC.ipynb\" target=\"_parent\"><img src=\"https://colab.research.google.com/assets/colab-badge.svg\" alt=\"Open In Colab\"/></a>"
      ]
    },
    {
      "cell_type": "markdown",
      "source": [
        "# **1. 분할 정복(Divide and Conqer)**\n",
        "* 문제를 여러 개의 독립적인 하위 문제로 나눠서 각각 해결한 후, 그 결과를 합쳐서 원래 문제를 해결하는 방식\n",
        "* 재귀적으로 하위 문제를 풀고, 합병 과정을 거치는 게 특징"
      ],
      "metadata": {
        "id": "WN0ptFxx2S_V"
      }
    },
    {
      "cell_type": "markdown",
      "source": [
        "# **2. 분할 정복을 사용하는 대표적인 정렬 : 퀵 정렬**\n",
        "* 정렬 알고리즘의 꽃\n",
        "* 기준점(pivot)을 정해서 기준점보다 작은 데이터는 왼쪽, 큰 데이터는 오른쪽으로 모으는 함수를 작성\n",
        "* 왼쪽, 오른쪽은 재귀용법을 사용해서 다시 동일 함수를 호출하여 위 작업을 반복함\n"
      ],
      "metadata": {
        "id": "DSrdNR0Q2m1x"
      }
    },
    {
      "cell_type": "markdown",
      "source": [
        "### 2-1. 퀵 정렬 알고리즘 구현하기\n",
        "* 만약 리스트 갯수가 한 개이면 해당 리스트를 반환\n",
        "* 그렇지 않으면, 리스트 맨 앞의 데이터를 기준점(pivot)으로 설정\n",
        "* left, right 리스트 변수를 만듦\n",
        "* 맨 앞의 데이터를 뺀 나머지 데이터를 기준점과 비교\n",
        "  * 기준점 보다 작으면 left.append\n",
        "  * 기준점 보다 크면 right.append\n",
        "* return quicksort(left) + pivot + quicksort(right)로 재귀 호출"
      ],
      "metadata": {
        "id": "Yqb6T-TG3NLg"
      }
    },
    {
      "cell_type": "code",
      "source": [
        "def quicksort(data) :\n",
        "  if len(data) <= 1 :\n",
        "    return data\n",
        "  pivot = data[0]\n",
        "  left, right = list(), list()\n",
        "  for idx in range(1, len(data)) :\n",
        "    if pivot > data[idx] :\n",
        "      left.append(data[idx])\n",
        "    else :\n",
        "      if pivot < data[idx] :\n",
        "        right.append(data[idx])\n",
        "  return quicksort(left) + [pivot] + quicksort(right)"
      ],
      "metadata": {
        "id": "JJFkFFS23_q_"
      },
      "execution_count": 12,
      "outputs": []
    },
    {
      "cell_type": "code",
      "source": [
        "import random\n",
        "data_list = random.sample(range(100), 10)\n",
        "print(data_list)\n",
        "print(quicksort(data_list))"
      ],
      "metadata": {
        "colab": {
          "base_uri": "https://localhost:8080/"
        },
        "id": "dLpjTLPM456t",
        "outputId": "b40c49ae-1315-4baa-8001-99e196cb853d"
      },
      "execution_count": 13,
      "outputs": [
        {
          "output_type": "stream",
          "name": "stdout",
          "text": [
            "[20, 94, 56, 72, 3, 71, 73, 97, 75, 36]\n",
            "[3, 20, 36, 56, 71, 72, 73, 75, 94, 97]\n"
          ]
        }
      ]
    },
    {
      "cell_type": "markdown",
      "source": [
        "### 2-2. 위 퀵정렬 코드를 list comprehension을 사용하여 더 좋은 알고리즘으로 작성해보기"
      ],
      "metadata": {
        "id": "A-uj79tG5Fdl"
      }
    },
    {
      "cell_type": "code",
      "source": [
        "def qsort(data) :\n",
        "  if len(data) <= 1 :\n",
        "    return data\n",
        "  pivot = data[0]\n",
        "  left, right = list(), list()\n",
        "\n",
        "  [left.append(data[idx]) if pivot > data[idx] else right.append(data[idx]) for idx in range(1, len(data))]\n",
        "\n",
        "  return quicksort(left) + [pivot] + quicksort(right)"
      ],
      "metadata": {
        "id": "yFID9ijE6kNQ"
      },
      "execution_count": 18,
      "outputs": []
    },
    {
      "cell_type": "code",
      "source": [
        "import random\n",
        "data_list = random.sample(range(100), 10)\n",
        "print(data_list)\n",
        "print(qsort(data_list))"
      ],
      "metadata": {
        "colab": {
          "base_uri": "https://localhost:8080/"
        },
        "id": "YLxUyE6w7I19",
        "outputId": "73354df6-33c2-405a-9b1a-1307f9bfc8e6"
      },
      "execution_count": 19,
      "outputs": [
        {
          "output_type": "stream",
          "name": "stdout",
          "text": [
            "[7, 95, 72, 54, 51, 11, 56, 42, 18, 62]\n",
            "[7, 11, 18, 42, 51, 54, 56, 62, 72, 95]\n"
          ]
        }
      ]
    },
    {
      "cell_type": "code",
      "source": [
        "def qsort(data) :\n",
        "  if len(data) <= 1 :\n",
        "    return data\n",
        "  pivot = data[0]\n",
        "  left = [item for item in data[1:] if pivot > item]\n",
        "  right = [item for item in data[1:] if pivot <= item]\n",
        "\n",
        "  return quicksort(left) + [pivot] + quicksort(right)"
      ],
      "metadata": {
        "id": "iFvquiBD7K0N"
      },
      "execution_count": 22,
      "outputs": []
    },
    {
      "cell_type": "code",
      "source": [
        "import random\n",
        "data_list = random.sample(range(100), 10)\n",
        "print(data_list)\n",
        "print(qsort(data_list))"
      ],
      "metadata": {
        "colab": {
          "base_uri": "https://localhost:8080/"
        },
        "id": "tXadLXPl-_ci",
        "outputId": "646d054b-306c-4ef1-eebc-6c777a445bdd"
      },
      "execution_count": 23,
      "outputs": [
        {
          "output_type": "stream",
          "name": "stdout",
          "text": [
            "[90, 25, 32, 4, 64, 9, 24, 72, 22, 94]\n",
            "[4, 9, 22, 24, 25, 32, 64, 72, 90, 94]\n"
          ]
        }
      ]
    },
    {
      "cell_type": "code",
      "source": [],
      "metadata": {
        "id": "P4syx6vC_BlO"
      },
      "execution_count": null,
      "outputs": []
    }
  ]
}