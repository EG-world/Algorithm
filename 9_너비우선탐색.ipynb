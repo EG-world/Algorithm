{
  "nbformat": 4,
  "nbformat_minor": 0,
  "metadata": {
    "colab": {
      "provenance": [],
      "authorship_tag": "ABX9TyMKgB/YVXwPCbu6CMun5GdJ",
      "include_colab_link": true
    },
    "kernelspec": {
      "name": "python3",
      "display_name": "Python 3"
    },
    "language_info": {
      "name": "python"
    }
  },
  "cells": [
    {
      "cell_type": "markdown",
      "metadata": {
        "id": "view-in-github",
        "colab_type": "text"
      },
      "source": [
        "<a href=\"https://colab.research.google.com/github/EG-world/Algorithm/blob/main/9_%EB%84%88%EB%B9%84%EC%9A%B0%EC%84%A0%ED%83%90%EC%83%89.ipynb\" target=\"_parent\"><img src=\"https://colab.research.google.com/assets/colab-badge.svg\" alt=\"Open In Colab\"/></a>"
      ]
    },
    {
      "cell_type": "markdown",
      "source": [
        "# **1. 너비 우선 탐색(Breadth-First Search)**\n",
        "* BFS : 대표적인 그래프 탐색 알고리즘\n",
        "* 정점들과 같은 레벨에 있는 노드들(형제 노드들)을 먼저 우선 탐색하는 방식\n",
        "* 한 단계씩 내려가면서 해당 노드와 같은 레벨에 있는 노드들(형제 노드들)을 먼저 순회함\n"
      ],
      "metadata": {
        "id": "qHBLSBwEReAl"
      }
    },
    {
      "cell_type": "code",
      "source": [
        "graph = dict()\n",
        "graph['A'] = ['B', 'C']\n",
        "graph['B'] = ['A', 'D']\n",
        "graph['C'] = ['A', 'G', 'H', 'I']\n",
        "graph['D'] = ['B', 'E', 'F']\n",
        "graph['E'] = ['D']\n",
        "graph['F'] = ['D']\n",
        "graph['G'] = ['C']\n",
        "graph['H'] = ['C']\n",
        "graph['I'] = ['C', 'J']\n",
        "graph['J'] = ['I']"
      ],
      "metadata": {
        "id": "75PqBowWRhvH"
      },
      "execution_count": null,
      "outputs": []
    },
    {
      "cell_type": "code",
      "source": [
        "graph"
      ],
      "metadata": {
        "colab": {
          "base_uri": "https://localhost:8080/"
        },
        "id": "NeKdMuFyRhyD",
        "outputId": "d4eb12fc-54f3-49e4-ca5c-d596997ae04b"
      },
      "execution_count": null,
      "outputs": [
        {
          "output_type": "execute_result",
          "data": {
            "text/plain": [
              "{'A': ['B', 'C'],\n",
              " 'B': ['A', 'D'],\n",
              " 'C': ['A', 'G', 'H', 'I'],\n",
              " 'D': ['B', 'E', 'F'],\n",
              " 'E': ['D'],\n",
              " 'F': ['D'],\n",
              " 'G': ['C'],\n",
              " 'H': ['C'],\n",
              " 'I': ['C', 'J'],\n",
              " 'J': ['I']}"
            ]
          },
          "metadata": {},
          "execution_count": 2
        }
      ]
    },
    {
      "cell_type": "markdown",
      "source": [
        "* 방문했던 리스트\n",
        "  - A. B, C, D, G, H, I, E, F, J\n",
        "\n",
        "* 방문해야할 리스트\n",
        "  - A : B, C\n",
        "  - B : C, A, D\n",
        "  - C : A, D, A, G, H, I\n",
        "  - D : A, G, H, I, B, E, F\n",
        "  - G : H, I, B, E, F, C\n",
        "  - H : I, B, E, F, C, C\n",
        "  - I : B, E, F, C, C, C, J\n",
        "  - E : F, C, C, C, J, D\n",
        "  - F : C, C, C, J, D, D\n",
        "  - J : D, D"
      ],
      "metadata": {
        "id": "r_DE57avRh0j"
      }
    },
    {
      "cell_type": "code",
      "source": [
        "def bfs(graph, start_node) :\n",
        "  visited, need_visit = list(), list()\n",
        "  need_visit.append(start_node)\n",
        "\n",
        "  while need_visit :\n",
        "    node = need_visit.pop(0)\n",
        "    if node not in visited :\n",
        "      visited.append(node)\n",
        "      need_visit.extend(graph[node])\n",
        "  return visited"
      ],
      "metadata": {
        "id": "wVJZChgFRh26"
      },
      "execution_count": 9,
      "outputs": []
    },
    {
      "cell_type": "code",
      "source": [
        "bfs(graph, 'A')"
      ],
      "metadata": {
        "id": "QxLDwCeORh8m",
        "colab": {
          "base_uri": "https://localhost:8080/"
        },
        "outputId": "82cbc026-c96b-4ac3-a6d7-29045e4f69b7"
      },
      "execution_count": 10,
      "outputs": [
        {
          "output_type": "execute_result",
          "data": {
            "text/plain": [
              "['A', 'B', 'C', 'D', 'G', 'H', 'I', 'E', 'F', 'J']"
            ]
          },
          "metadata": {},
          "execution_count": 10
        }
      ]
    },
    {
      "cell_type": "markdown",
      "source": [
        "# **2. 깊이 우선 탐색(Depth-First Search)**\n",
        "* DFS : 대표적인 그래프 탐색 알고리즘\n",
        "* 정점의 자식들을 먼저 탐색하는 방식\n",
        "* 한 노드의 자식을 타고 끝까지 순회한 후, 다시 돌아와서 다른"
      ],
      "metadata": {
        "id": "CeUIS5yPRigY"
      }
    },
    {
      "cell_type": "markdown",
      "source": [
        "* 방문했던 리스트\n",
        "  -\n",
        "\n",
        "* 방문해야할 리스트\n",
        "  - A : B, C\n",
        "  - B : C, A, D\n",
        "  - C : A, D, A, G, H, I\n",
        "  - D : A, G, H, I, B, E, F\n",
        "  - G : H, I, B, E, F, C\n",
        "  - H : I, B, E, F, C, C\n",
        "  - I : B, E, F, C, C, C, J\n",
        "  - E : F, C, C, C, J, D\n",
        "  - F : C, C, C, J, D, D\n",
        "  - J : D, D"
      ],
      "metadata": {
        "id": "h6q4t4X82bXe"
      }
    },
    {
      "cell_type": "code",
      "source": [
        "graph = dict()\n",
        "graph['A'] = ['B', 'C']\n",
        "graph['B'] = ['A', 'D']\n",
        "graph['C'] = ['A', 'G', 'H', 'I']\n",
        "graph['D'] = ['B', 'E', 'F']\n",
        "graph['E'] = ['D']\n",
        "graph['F'] = ['D']\n",
        "graph['G'] = ['C']\n",
        "graph['H'] = ['C']\n",
        "graph['I'] = ['C', 'J']\n",
        "graph['J'] = ['I']"
      ],
      "metadata": {
        "id": "MjSU2OKWRidd"
      },
      "execution_count": null,
      "outputs": []
    },
    {
      "cell_type": "code",
      "source": [
        "def dfs(graph, start_node) :\n",
        "  visited, need_visit = list(), list()\n",
        "  need_visit.append(start_node)\n",
        "\n",
        "  while need_visit :\n",
        "    node = need_visit.pop()\n",
        "    if node not in visited :\n",
        "      visited.append(node)\n",
        "      need_visit.extend(graph[node])\n",
        "  return visited"
      ],
      "metadata": {
        "id": "MDKRGADnRiaq"
      },
      "execution_count": 11,
      "outputs": []
    },
    {
      "cell_type": "code",
      "source": [
        "dfs(graph, 'A')"
      ],
      "metadata": {
        "id": "q23Rw-_3RiXn",
        "colab": {
          "base_uri": "https://localhost:8080/"
        },
        "outputId": "5e31a9c0-459c-4236-c625-c87932267d7f"
      },
      "execution_count": 12,
      "outputs": [
        {
          "output_type": "execute_result",
          "data": {
            "text/plain": [
              "['A', 'C', 'I', 'J', 'H', 'G', 'B', 'D', 'F', 'E']"
            ]
          },
          "metadata": {},
          "execution_count": 12
        }
      ]
    },
    {
      "cell_type": "code",
      "source": [],
      "metadata": {
        "id": "c-8T7q8IRiVP"
      },
      "execution_count": null,
      "outputs": []
    },
    {
      "cell_type": "code",
      "source": [],
      "metadata": {
        "id": "JjijrONTRiSU"
      },
      "execution_count": null,
      "outputs": []
    },
    {
      "cell_type": "code",
      "source": [],
      "metadata": {
        "id": "4FnPdVBURiPY"
      },
      "execution_count": null,
      "outputs": []
    },
    {
      "cell_type": "code",
      "source": [],
      "metadata": {
        "id": "rbTlMv9YRiMb"
      },
      "execution_count": null,
      "outputs": []
    },
    {
      "cell_type": "code",
      "source": [],
      "metadata": {
        "id": "KV0bUTK8RiKG"
      },
      "execution_count": null,
      "outputs": []
    },
    {
      "cell_type": "code",
      "source": [],
      "metadata": {
        "id": "FYXwlLzgRiHw"
      },
      "execution_count": null,
      "outputs": []
    },
    {
      "cell_type": "code",
      "source": [],
      "metadata": {
        "id": "TSuV_bzQRiE0"
      },
      "execution_count": null,
      "outputs": []
    },
    {
      "cell_type": "code",
      "source": [],
      "metadata": {
        "id": "-vhh9wCLRiBT"
      },
      "execution_count": null,
      "outputs": []
    },
    {
      "cell_type": "code",
      "source": [],
      "metadata": {
        "id": "ssB_9AMzRh-8"
      },
      "execution_count": null,
      "outputs": []
    }
  ]
}