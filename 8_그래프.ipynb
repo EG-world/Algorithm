{
  "nbformat": 4,
  "nbformat_minor": 0,
  "metadata": {
    "colab": {
      "provenance": [],
      "authorship_tag": "ABX9TyNWykw/+zLHt4YE3IQ6bHWl",
      "include_colab_link": true
    },
    "kernelspec": {
      "name": "python3",
      "display_name": "Python 3"
    },
    "language_info": {
      "name": "python"
    }
  },
  "cells": [
    {
      "cell_type": "markdown",
      "metadata": {
        "id": "view-in-github",
        "colab_type": "text"
      },
      "source": [
        "<a href=\"https://colab.research.google.com/github/EG-world/Algorithm/blob/main/8_%EA%B7%B8%EB%9E%98%ED%94%84.ipynb\" target=\"_parent\"><img src=\"https://colab.research.google.com/assets/colab-badge.svg\" alt=\"Open In Colab\"/></a>"
      ]
    },
    {
      "cell_type": "markdown",
      "source": [
        "# **1. 그래프(Graph)**\n",
        "* 실제 세계의 현상이나 사물을 정점(Vertex) 또는 노드(Node)와 간선(Edge)으로 표현하기 위해 사용\n",
        "* 노드(Node) : 위치, 정점이라고 함\n",
        "* 간선(Edge) : 위치간의 관계를 표시한 선으로 노드를 연결한 선(link 또는 Branch 라고도 함)"
      ],
      "metadata": {
        "id": "iwJSElUROmjR"
      }
    },
    {
      "cell_type": "markdown",
      "source": [
        "### 1-1. 그래프의 종류\n",
        "1. 무방향 그래프\n",
        "  * 방향이 없는 그래프\n",
        "  * 간선을 통해, 노드는 양방향으로 갈 수 있음\n",
        "2. 방향 그래프\n",
        "  * 간선에 방향이 있는 그래프\n",
        "  * 보통 노드 A,B가 A -> B로 가는 간선으로 연결되어 있는 경우 <A, B>로 표기\n",
        "  * 단, <A,B>와 <B,A>는 다름\n",
        "3. 가중치 그래프\n",
        "  * 간선의 비용 또는 가중치가 할당된 그래프\n",
        "4. 연결 그래프와 비연결 그래프\n",
        "  * 연결 그래프 : 무방향 그래프에 있는 모든 노드에 대해 항상 경로가 존재하는 경우\n",
        "  * 비연결 그래프 : 무방향 그래프에서 특정 노드에 대해 경로가 존재하지 않는 경우\n",
        "5. 순환 그래프와 비순환 그래프\n",
        "  * 순환 그래프 : 단순 경로의 시작노드와 종료 노드가 동일한 경우\n",
        "  * 비순환 그래프 : 사이클이 없는 그래프"
      ],
      "metadata": {
        "id": "BvAnDyPBPG59"
      }
    },
    {
      "cell_type": "markdown",
      "source": [
        "# **2. 그래프와 트리의 차이**\n",
        "<div style=\"text-align:left\">\n",
        "<table>\n",
        "  <tr>\n",
        "    <th></th>\n",
        "    <th style=\"text-align:center\">그래프</th>\n",
        "    <th style=\"text-align:center\">트리</th>\n",
        "  </tr>\n",
        "  <tr>\n",
        "    <td style=\"text-align:center\">정의</td>\n",
        "    <td style=\"text-align:left\">노드와 노드를 연결하는 간선으로 표현되는 자료 구조</td>\n",
        "    <td style=\"text-align:left\">그래프의 한 종류, 방향성이 있는 비순환 그래프</td>\n",
        "  </tr>\n",
        "  <tr>\n",
        "    <td style=\"text-align:center\">방향성</td>\n",
        "    <td style=\"text-align:left\">방향 그래프, 무방향 그래프 둘다 존재함</td>\n",
        "    <td style=\"text-align:left\">방향 그래프만 존재함</td>\n",
        "  </tr>\n",
        "  <tr>\n",
        "    <td style=\"text-align:center\">사이클</td>\n",
        "    <td style=\"text-align:left\">사이클 가능함, 순환 및 비순환 그래프 모두 존재함</td>\n",
        "    <td style=\"text-align:left\">비순환 그래프로 사이클이 존재하지 않음</td>\n",
        "  </tr>\n",
        "  <tr>\n",
        "    <td style=\"text-align:center\">루트 노드</td>\n",
        "    <td style=\"text-align:left\">루트 노드 존재하지 않음</td>\n",
        "    <td style=\"text-align:left\">루트 노드 존재함</td>\n",
        "  </tr>\n",
        "  <tr>\n",
        "    <td style=\"text-align:center\">부모/자식 관계</td>\n",
        "    <td style=\"text-align:left\">부모 자식 개념이 존재하지 않음</td>\n",
        "    <td style=\"text-align:left\">부모 자식 관계가 존재함</td>\n",
        "  </tr>\n",
        "</table>\n",
        "</div>"
      ],
      "metadata": {
        "id": "Y6dFjhjtPJpZ"
      }
    },
    {
      "cell_type": "code",
      "source": [],
      "metadata": {
        "id": "sTjSjZdBQ6p4"
      },
      "execution_count": null,
      "outputs": []
    }
  ]
}