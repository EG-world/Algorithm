{
  "nbformat": 4,
  "nbformat_minor": 0,
  "metadata": {
    "colab": {
      "provenance": [],
      "authorship_tag": "ABX9TyNzZ/eq6l4Oq5wZIKTpNV+y",
      "include_colab_link": true
    },
    "kernelspec": {
      "name": "python3",
      "display_name": "Python 3"
    },
    "language_info": {
      "name": "python"
    }
  },
  "cells": [
    {
      "cell_type": "markdown",
      "metadata": {
        "id": "view-in-github",
        "colab_type": "text"
      },
      "source": [
        "<a href=\"https://colab.research.google.com/github/EG-world/Algorithm/blob/main/1_%EA%B8%B0%EB%B3%B8%EC%A0%95%EB%A0%AC.ipynb\" target=\"_parent\"><img src=\"https://colab.research.google.com/assets/colab-badge.svg\" alt=\"Open In Colab\"/></a>"
      ]
    },
    {
      "cell_type": "markdown",
      "source": [
        "# **1. 버블 정렬(bubble sort)**\n",
        "* 정렬(sorting) : 어떤 데이터들이 주어졌을 때 이를 정해진 순서대로 나열하는 것\n",
        "* 정렬은 프로그램 작성시 빈번하게 필요로 함\n",
        "* 다양한 알고리즘이 고안되었으며, 알고리즘 학습의 필수\n",
        "* 다양한 정렬 알고리즘 이해를 통해 동일한 문제에 대해 다양한 알고리즘 고안될 수 있음을 이해하고, 각 알고리즘간 성능 비교를 통해 알고리즘 성능 분석에 대해서도 이해 할 수 있음\n",
        "* 두 인접한 데이터를 비교해서, 앞에있는 데이터가 뒤에 있는 데이터보다 크면, 자리를 바꾸는 정렬 알고리즘"
      ],
      "metadata": {
        "id": "ODHVLy7fFObx"
      }
    },
    {
      "cell_type": "markdown",
      "source": [
        "### 1-1. 버블 정렬 알고리즘 구현하기\n",
        "* 데이터가 4개일 때 (ex. data_list=[1,9,3,2])\n",
        "* 1차 로직 적용\n",
        "  * 1, 9 비교, 자리바꿈없음 [1,9,3,2]\n",
        "  * 9, 3 비교, 자리바꿈 [1,3,9,2]\n",
        "  * 9, 2 비교, 자리바꿈 [1,3,2,9]\n",
        "* 2차 로직 적용\n",
        "  * 1, 3 비교, 자리바꿈 없음 [1,3,2,9]\n",
        "  * 3, 9 비교, 자리바꿈 [1,2,3,9]\n",
        "  * 3, 9 비교, 자리바꿈없음 [1,2,3,9]\n",
        "* 3차 로직 적용\n",
        "  * 1, 2 비교, 자리바꿈없음 [1,2,3,9]\n",
        "  * 2, 3 비교, 자리바꿈없음 [1,2,3,9]\n",
        "  * 3, 9 비교, 자리바꿈없음 [1,2,3,9]\n",
        "\n",
        "> n개의 리스트가 있는경우 최대 n-1의 로직이 적용\n",
        "\n",
        "> 로직을 1번 적용할 때마다 가장 큰 숫자가 뒤에서부터 1개씩 결정됨\n",
        "\n",
        "> 로직이 경우에 따라 일찍 끝날 수도 있음. 따라서 로직을 적용할 때 한번도 데이터가 교환된 적이 없다면 이미 정렬된 상태이므로 더 이상 로직을 반복 적용 할 필요가 없음\n"
      ],
      "metadata": {
        "id": "lDzJtfktG-dq"
      }
    },
    {
      "cell_type": "code",
      "source": [
        "def bubble(li) :\n",
        "  count = 0\n",
        "  while True :\n",
        "    count += 1\n",
        "    for i in range(len(li)-1) :\n",
        "      if li[i] > li[i+1]:\n",
        "        temp = li[i]\n",
        "        li[i] = li [i+1]\n",
        "        li[i+1] = temp\n",
        "    if count == len(li)-1 :\n",
        "      break\n",
        "    elif li.sort() == li :\n",
        "      break\n",
        "\n",
        "  return li"
      ],
      "metadata": {
        "id": "LqUn9lpFG-y8"
      },
      "execution_count": 8,
      "outputs": []
    },
    {
      "cell_type": "code",
      "source": [
        "data_list=[1,9,3,2]\n",
        "bubble(data_list)"
      ],
      "metadata": {
        "colab": {
          "base_uri": "https://localhost:8080/"
        },
        "id": "-HNoU8jdG-13",
        "outputId": "1f2b6578-8513-456d-9397-feb2ac77ed18"
      },
      "execution_count": 9,
      "outputs": [
        {
          "output_type": "stream",
          "name": "stdout",
          "text": [
            "n번끝\n",
            "n번끝\n",
            "n번끝\n"
          ]
        },
        {
          "output_type": "execute_result",
          "data": {
            "text/plain": [
              "[1, 2, 3, 9]"
            ]
          },
          "metadata": {},
          "execution_count": 9
        }
      ]
    },
    {
      "cell_type": "code",
      "source": [
        "def bubblesort(data) :\n",
        "  for index in range(len(data)-1) :\n",
        "    swap = False\n",
        "    for index2 in range(len(data)-index-1) :\n",
        "      if data[index2] > data[index2+1] :\n",
        "        data[index2], data[index2+1] = data[index2+1], data[index2]\n",
        "        swap = True\n",
        "\n",
        "    if swap == False :\n",
        "      break\n",
        "  return data"
      ],
      "metadata": {
        "id": "jgRIu0sdG-41"
      },
      "execution_count": 10,
      "outputs": []
    },
    {
      "cell_type": "code",
      "source": [
        "import random\n",
        "data_list = random.sample(range(100),50)\n",
        "print(data_list)\n",
        "print(bubblesort(data_list))"
      ],
      "metadata": {
        "colab": {
          "base_uri": "https://localhost:8080/"
        },
        "id": "64gcIHVpG-7U",
        "outputId": "1bcdd651-df65-4350-8c77-4bcf0bef6189"
      },
      "execution_count": 12,
      "outputs": [
        {
          "output_type": "stream",
          "name": "stdout",
          "text": [
            "[85, 72, 25, 31, 35, 79, 12, 71, 84, 29, 64, 43, 66, 47, 70, 30, 8, 21, 92, 51, 62, 32, 4, 63, 11, 61, 56, 45, 33, 3, 78, 74, 28, 17, 48, 49, 50, 91, 37, 60, 68, 82, 27, 5, 55, 52, 36, 14, 73, 34]\n",
            "[3, 4, 5, 8, 11, 12, 14, 17, 21, 25, 27, 28, 29, 30, 31, 32, 33, 34, 35, 36, 37, 43, 45, 47, 48, 49, 50, 51, 52, 55, 56, 60, 61, 62, 63, 64, 66, 68, 70, 71, 72, 73, 74, 78, 79, 82, 84, 85, 91, 92]\n"
          ]
        }
      ]
    },
    {
      "cell_type": "markdown",
      "source": [
        "# **2. 삽입정렬(insertion sort)**\n",
        "* 두 번째 원소부터 차례대로 앞에 있는 정렬된 부분과 비교하면서 자신의 자리를 찾아감\n",
        "* 더 작은 값이 나오면 그 자리에 삽입하고, 나머지 원소들은 한 칸씩 뒤로 밀림\n",
        "* 리스트 끝까지 가면서 정렬을 완료함"
      ],
      "metadata": {
        "id": "q2a2vTkWG_s7"
      }
    },
    {
      "cell_type": "markdown",
      "source": [
        "<img src=\"https://upload.wikimedia.org/wikipedia/commons/9/9c/Insertion-sort-example.gif\" />"
      ],
      "metadata": {
        "id": "HBb0gAJWG_qJ"
      }
    },
    {
      "cell_type": "markdown",
      "source": [
        "### 2-1. 버블 정렬 알고리즘 구현하기\n",
        "* 데이터가 4개일 때 (ex. data_list=[9,3,2,5])\n",
        "* 처음 실행하면 key값은 9 인덱스(0)-1은 0보다 작으므로 끝 : [9,3,2,5]\n",
        "* 두번째 실행 key값은 3, 9보다 3이 작으므로 자리 바꾸고 끝 : [3,9,2,5]\n",
        "* 세번째 실행 key값은 2, 9보다 2가 작으므로 자리 바꾸고, 3보다 2가 작으므로 자리 바꾸고 끝 : [2,3,9,5]\n",
        "* 네번째 실행 key값은 5, 9보다 5가 작으므로 자리바꾸고, 3보다 5가 크므로 끝 : [2,3,5,9]"
      ],
      "metadata": {
        "id": "Y9pgT8lJzEHs"
      }
    },
    {
      "cell_type": "code",
      "source": [
        "def insertion_sort(data):\n",
        "    for index in range(len(data)-1) :\n",
        "      for index2 in range(index+1, 0, -1) :\n",
        "        if data[index2] < data[index2-1] :\n",
        "          data[index2], data[index2-1] = data[index2-1], data[index2]\n",
        "        else :\n",
        "          break\n",
        "    return data"
      ],
      "metadata": {
        "id": "eDz6pLwGG_me"
      },
      "execution_count": 23,
      "outputs": []
    },
    {
      "cell_type": "code",
      "source": [
        "li = [6,5,3,1,8,7,2,4]\n",
        "insertion_sort(li)"
      ],
      "metadata": {
        "colab": {
          "base_uri": "https://localhost:8080/"
        },
        "id": "nNfDmqK5G_i-",
        "outputId": "8851f6aa-9a9e-4834-b5b1-587c95ca4a4a"
      },
      "execution_count": 24,
      "outputs": [
        {
          "output_type": "execute_result",
          "data": {
            "text/plain": [
              "[1, 2, 3, 4, 5, 6, 7, 8]"
            ]
          },
          "metadata": {},
          "execution_count": 24
        }
      ]
    },
    {
      "cell_type": "code",
      "source": [
        "import random\n",
        "data_list = random.sample(range(100),20)\n",
        "print(data_list)\n",
        "print(bubblesort(data_list))"
      ],
      "metadata": {
        "colab": {
          "base_uri": "https://localhost:8080/"
        },
        "id": "Dqwz0fjxG_gK",
        "outputId": "3f42ac26-b5ec-48e6-e77f-6702cde1459f"
      },
      "execution_count": 25,
      "outputs": [
        {
          "output_type": "stream",
          "name": "stdout",
          "text": [
            "[32, 30, 79, 91, 8, 57, 75, 20, 46, 3, 78, 44, 92, 5, 2, 16, 10, 45, 1, 51]\n",
            "[1, 2, 3, 5, 8, 10, 16, 20, 30, 32, 44, 45, 46, 51, 57, 75, 78, 79, 91, 92]\n"
          ]
        }
      ]
    },
    {
      "cell_type": "markdown",
      "source": [
        "# **3. 선택정렬(selection sort)**\n",
        "\n",
        "\n",
        "\n",
        "<img src=\"https://upload.wikimedia.org/wikipedia/commons/9/94/Selection-Sort-Animation.gif\" width=100>"
      ],
      "metadata": {
        "id": "5H2Z2WsAG_dH"
      }
    },
    {
      "cell_type": "markdown",
      "source": [
        "### 3-1. 선택정렬 알고리즘 구현하기\n",
        "* 데이터가 두 개일때 (예: datalist = [9,1])\n",
        "    * data_list[0] > data_list[1]이므로 data_list[0]값과 data_list[1]값을 교환\n",
        "* 데이터가 세 개일때 (예: datalist = [9,1,7])\n",
        "    * 처음 실행하면 1,9,7이 됨\n",
        "    * 두번째 실행하면 1,7,9가 됨\n",
        "* 데이터가 네 개일때 (예: datalist = [9,3,2,1])\n",
        "    * 처음 실행하면 1,3,2,9가 됨\n",
        "    * 두번째 실행하면 1,2,3,9가 됨\n",
        "    * 세번째 실행하면 변화 없음"
      ],
      "metadata": {
        "id": "axP3GzP5G_aM"
      }
    },
    {
      "cell_type": "code",
      "source": [
        "def selection_sort(data):\n",
        "    for stand in range(len(data) - 1):\n",
        "        lowest = stand\n",
        "        for index in range(stand + 1, len(data)):\n",
        "            if data[lowest] > data[index]:\n",
        "                lowest = index\n",
        "        data[lowest], data[stand] = data[stand], data[lowest]\n",
        "    return data"
      ],
      "metadata": {
        "id": "ywzmpEaJG_Wo"
      },
      "execution_count": 26,
      "outputs": []
    },
    {
      "cell_type": "code",
      "source": [],
      "metadata": {
        "id": "oRJ5oLhiG_Tt"
      },
      "execution_count": null,
      "outputs": []
    },
    {
      "cell_type": "code",
      "source": [],
      "metadata": {
        "id": "fzA0lKVoG_Qy"
      },
      "execution_count": null,
      "outputs": []
    },
    {
      "cell_type": "code",
      "source": [],
      "metadata": {
        "id": "0xOM5sntG_NS"
      },
      "execution_count": null,
      "outputs": []
    },
    {
      "cell_type": "code",
      "source": [],
      "metadata": {
        "id": "l_SuAwW4G_KX"
      },
      "execution_count": null,
      "outputs": []
    },
    {
      "cell_type": "code",
      "source": [],
      "metadata": {
        "id": "bVzaqf1rG_Ha"
      },
      "execution_count": null,
      "outputs": []
    },
    {
      "cell_type": "code",
      "source": [],
      "metadata": {
        "id": "LgipEp5aG_Ef"
      },
      "execution_count": null,
      "outputs": []
    },
    {
      "cell_type": "code",
      "source": [],
      "metadata": {
        "id": "dZvM6N3LG_BA"
      },
      "execution_count": null,
      "outputs": []
    },
    {
      "cell_type": "code",
      "source": [],
      "metadata": {
        "id": "DOaKnbuVG-9e"
      },
      "execution_count": null,
      "outputs": []
    }
  ]
}